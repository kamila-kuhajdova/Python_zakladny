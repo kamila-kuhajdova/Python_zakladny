{
 "cells":[
  {
   "cell_type":"markdown",
   "source":[
    "# Kurz Python 🐍"
   ],
   "attachments":{
    
   },
   "metadata":{
    "datalore":{
     "node_id":"v5rhv4NK5w3eS0qmrZiGKf",
     "type":"MD",
     "hide_input_from_viewers":false,
     "hide_output_from_viewers":false
    }
   }
  },
  {
   "cell_type":"markdown",
   "source":[
    "## 🎨🧶🐍 Tlač (výpis), komentáre, kódovanie, dokumentácie"
   ],
   "attachments":{
    
   },
   "metadata":{
    "datalore":{
     "node_id":"YXGgOQrfCvBzNWu98Oi528",
     "type":"MD",
     "hide_input_from_viewers":false,
     "hide_output_from_viewers":false
    }
   }
  },
  {
   "cell_type":"code",
   "source":[
    
   ],
   "execution_count":9,
   "outputs":[
    {
     "name":"stdout",
     "text":[
      "Python je super jazyk\n",
      "PHP je super jazyk\n",
      "\n",
      "    Toto je dokumentacny retazec\n",
      "    Autor: Miroslav Reiter\n",
      "    Verzia:\n",
      "    Priklad:\n",
      "\n",
      "🎨🧶\n"
     ],
     "output_type":"stream"
    }
   ],
   "metadata":{
    "datalore":{
     "node_id":"mIqBypR1TPybH7MJd075ER",
     "type":"CODE",
     "hide_input_from_viewers":false,
     "hide_output_from_viewers":false
    }
   }
  },
  {
   "cell_type":"markdown",
   "source":[
    "## Dátové typy, premenné"
   ],
   "attachments":{
    
   },
   "metadata":{
    "datalore":{
     "node_id":"JbxlEVzd6GsOCWRSnDWPP4",
     "type":"MD",
     "hide_input_from_viewers":false,
     "hide_output_from_viewers":false
    }
   }
  },
  {
   "cell_type":"code",
   "source":[
    
   ],
   "execution_count":17,
   "outputs":[
    {
     "name":"stdout",
     "text":[
      "Pocet obyvatelov: 7 ma typ:  <class 'int'>\n",
      "Mzda zamestnanec: 1263.47 ma typ:  <class 'float'>\n",
      "Je PN: True ma typ:  <class 'bool'>\n",
      "Je PN: Python I Datalore ma typ:  <class 'str'>\n"
     ],
     "output_type":"stream"
    }
   ],
   "metadata":{
    "datalore":{
     "node_id":"Ssh2vvgrBfJxWhCrYI3APn",
     "type":"CODE",
     "hide_input_from_viewers":false,
     "hide_output_from_viewers":false
    }
   }
  },
  {
   "cell_type":"markdown",
   "source":[
    "## Zabudovane (built-in) funkcie, operacie"
   ],
   "attachments":{
    
   },
   "metadata":{
    "datalore":{
     "node_id":"ftzsGh45wGI5LgREMG6bfg",
     "type":"MD",
     "hide_input_from_viewers":false,
     "hide_output_from_viewers":false
    }
   }
  },
  {
   "cell_type":"code",
   "source":[
    
   ],
   "execution_count":60,
   "outputs":[
    {
     "name":"stdout",
     "text":[
      "Zoznam cisel: [1, 2, 3, 4, 5, 6, 7, -5, -9] ma typ:  <class 'list'>\n",
      "Maximum: 7\n",
      "Minimum: -9\n",
      "Sum: 14\n",
      "Pocet cisel: 9\n",
      "8\n",
      "32\n",
      "2.5\n",
      "2\n",
      "1\n",
      "Zoradenie + reverse: [7, 6, 5, 4, 3, 2, 1, -5, -9]\n",
      "Reverse: <list_reverseiterator object at 0x7fa3c02573a0>\n",
      "Zoznam original: [-5, True, False, 0, 100.6]\n",
      "Zoznam sorted: [-5, False, 0, True, 100.6]\n"
     ],
     "output_type":"stream"
    }
   ],
   "metadata":{
    "datalore":{
     "node_id":"nayUobzOd7x13muIA7kmOr",
     "type":"CODE",
     "hide_input_from_viewers":false,
     "hide_output_from_viewers":false
    }
   }
  },
  {
   "cell_type":"markdown",
   "source":[
    "## Pretypovanie (Explicitne)"
   ],
   "attachments":{
    
   },
   "metadata":{
    "datalore":{
     "node_id":"jvwcmTzZMbJewSaYSnYsiZ",
     "type":"MD",
     "hide_input_from_viewers":false,
     "hide_output_from_viewers":false
    }
   }
  },
  {
   "cell_type":"code",
   "source":[
    
   ],
   "execution_count":53,
   "outputs":[
    {
     "name":"stdout",
     "text":[
      "Sprava 5\n",
      "Celkova cena: 5.99, ma typ: <class 'str'>\n",
      "Celkova cena: 5.99, ma typ: <class 'float'>\n",
      "Celkova cena: 5.99, ma typ: <class 'str'>\n",
      "ADAM\n",
      "['A', 'D', 'A', 'M']\n",
      "['1', '2', '3']\n"
     ],
     "output_type":"stream"
    }
   ],
   "metadata":{
    "datalore":{
     "node_id":"P54Kif3MaKZUG4yyX8MZwI",
     "type":"CODE",
     "hide_input_from_viewers":false,
     "hide_output_from_viewers":false
    }
   }
  },
  {
   "cell_type":"markdown",
   "source":[
    "## Zoznamy a Výber Dát (Slicing)"
   ],
   "attachments":{
    
   },
   "metadata":{
    "datalore":{
     "node_id":"haJlWirtWalQSKXJnQeART",
     "type":"MD",
     "hide_input_from_viewers":false,
     "hide_output_from_viewers":false
    }
   }
  },
  {
   "cell_type":"code",
   "source":[
    
   ],
   "execution_count":20,
   "outputs":[
    {
     "name":"stdout",
     "text":[
      "Zoznam cisel: [-5, 0, 2, 3, 7, 9, 10, 100]\n",
      "Pocet cisel: 8\n",
      "1. polozka\/0. index: -5\n",
      "2. polozka\/1. index: 0\n",
      "Posledna. polozka\/-1. index: 100\n",
      "Posledna. polozka\/-1. index: 100\n",
      "Predposledna polozka\/-2. index: 100\n",
      "Predposledna polozka\/-2. index: 10\n",
      "1:3 -> [0, 2]\n",
      "0:3 -> [-5, 0, 2]\n",
      ":5 -> [-5, 0, 2, 3, 7]\n",
      "5: -> [9, 10, 100]\n",
      ": -> [-5, 0, 2, 3, 7, 9, 10, 100]\n",
      "::: -> [-5, 0, 2, 3, 7, 9, 10, 100]\n",
      "::2 -> [-5, 2, 7, 10]\n",
      "::-1 -> [100, 10, 9, 7, 3, 2, 0, -5]\n",
      "::-2 -> [100, 9, 3, 0]\n",
      "0:5:-1 -> []\n",
      "5:0:-1 -> [9, 7, 3, 2, 0]\n",
      "0:-5:-1 -> []\n",
      "-5:0:-1 -> [3, 2, 0]\n"
     ],
     "output_type":"stream"
    }
   ],
   "metadata":{
    "datalore":{
     "node_id":"igZV4gZG7H81XJB9M8ouUF",
     "type":"CODE",
     "hide_input_from_viewers":false,
     "hide_output_from_viewers":false
    }
   }
  },
  {
   "cell_type":"markdown",
   "source":[
    "## Zabudované Metódy pre Zoznamy\/Lists"
   ],
   "attachments":{
    
   },
   "metadata":{
    "datalore":{
     "node_id":"BbOoyApm7qPRcqMJm1vhU3",
     "type":"MD",
     "hide_input_from_viewers":false,
     "hide_output_from_viewers":false
    }
   }
  },
  {
   "cell_type":"code",
   "source":[
    
   ],
   "execution_count":44,
   "outputs":[
    {
     "name":"stdout",
     "text":[
      "Zoznam klientov: ['Adam', 'Martina', 'Jozef', 'Maria']\n",
      "Zoznam klientov po append: ['Adam', 'Martina', 'Jozef', 'Maria', 'Eva', 'Marta', 'Dusan']\n",
      "Zoznam klientov: ['Adam', 'Martina', 'Jozef', 'Maria', 'Eva', 'Marta', 'Dusan', 'Igor', 'Xenia']\n",
      "id(zoznam_klientov) --> 139634590600000\n",
      "id(zoznam_klientov_zaloha) --> 139634593531328\n",
      "id(zoznam_klientov2) --> 139634590600000\n",
      "Na ktorom indexe je Eva:  4\n",
      "Na ktorom indexe je Xenia:  8\n",
      "Zoznam klientov: ['Chuck', 'Chuck', 'Adam', 'Martina', 'Jozef', 'Maria', 'Eva', 'Marta', 'Dusan', 'Igor', 'Xenia']\n",
      "Zoznam klientov: ['Chuck', 'Adam', 'Martina', 'Jozef', 'Maria', 'Eva', 'Marta', 'Dusan', 'Igor', 'Xenia']\n",
      "Vymazana polozka: Chuck\n",
      "Zoznam klientov: ['Chuck', 'Adam', 'Martina', 'Jozef', 'Maria', 'Eva', 'Dusan', 'Igor', 'Xenia']\n"
     ],
     "output_type":"stream"
    }
   ],
   "metadata":{
    "datalore":{
     "node_id":"z8jeRwjThOU0BPslUVJABy",
     "type":"CODE",
     "hide_input_from_viewers":false,
     "hide_output_from_viewers":false
    }
   }
  },
  {
   "cell_type":"code",
   "source":[
    
   ],
   "execution_count":46,
   "outputs":[
    {
     "name":"stdout",
     "text":[
      "Zoradeny zoznam klientov Vzostupne: ['Adam', 'Chuck', 'Dusan', 'Eva', 'Igor', 'Jozef', 'Maria', 'Martina', 'Xenia']\n",
      "Zoradeny zoznam klientov Zostupne: ['Xenia', 'Martina', 'Maria', 'Jozef', 'Igor', 'Eva', 'Dusan', 'Chuck', 'Adam']\n"
     ],
     "output_type":"stream"
    }
   ],
   "metadata":{
    "datalore":{
     "node_id":"FcioSEGFblg6dyACJKn3Wr",
     "type":"CODE",
     "hide_input_from_viewers":false,
     "hide_output_from_viewers":false
    }
   }
  },
  {
   "cell_type":"code",
   "source":[
    
   ],
   "execution_count":31,
   "outputs":[
    {
     "name":"stdout",
     "text":[
      "id(a) -> 139634950357440\n",
      "id(b) -> 139634950357600\n",
      "id(c) -> 139634950357440\n",
      "id(d) -> 139634950357440\n"
     ],
     "output_type":"stream"
    }
   ],
   "metadata":{
    "datalore":{
     "node_id":"gRG6SnBbrZum6H5ITccdc8",
     "type":"CODE",
     "hide_input_from_viewers":false,
     "hide_output_from_viewers":false
    }
   }
  },
  {
   "cell_type":"markdown",
   "source":[
    "## Tice (Tuple)"
   ],
   "attachments":{
    
   },
   "metadata":{
    "datalore":{
     "node_id":"Wo7sulgP1bv8V5qLEYe9L1",
     "type":"MD",
     "hide_input_from_viewers":false,
     "hide_output_from_viewers":false
    }
   }
  },
  {
   "cell_type":"code",
   "source":[
    
   ],
   "execution_count":52,
   "outputs":[
    {
     "name":"stdout",
     "text":[
      "tica cisel: (100, 1, 2, 3, 5, 7, 9, 100, 100) typ: <class 'tuple'>\n",
      "0. index\/1. polozka:  100\n"
     ],
     "output_type":"stream"
    }
   ],
   "metadata":{
    "datalore":{
     "node_id":"EmmDIVDWWq22wzSosRCDVY",
     "type":"CODE",
     "hide_input_from_viewers":false,
     "hide_output_from_viewers":false
    }
   }
  },
  {
   "cell_type":"code",
   "source":[
    
   ],
   "execution_count":58,
   "outputs":[
    {
     "name":"stdout",
     "text":[
      "<module 'math' from '\/opt\/python\/lib\/python3.8\/lib-dynload\/math.cpython-38-x86_64-linux-gnu.so'>\n",
      "<class 'module'>\n",
      "This module provides access to the mathematical functions\n",
      "defined by the C standard.\n",
      "['__doc__', '__file__', '__loader__', '__name__', '__package__', '__spec__', 'acos', 'acosh', 'asin', 'asinh', 'atan', 'atan2', 'atanh', 'ceil', 'comb', 'copysign', 'cos', 'cosh', 'degrees', 'dist', 'e', 'erf', 'erfc', 'exp', 'expm1', 'fabs', 'factorial', 'floor', 'fmod', 'frexp', 'fsum', 'gamma', 'gcd', 'hypot', 'inf', 'isclose', 'isfinite', 'isinf', 'isnan', 'isqrt', 'ldexp', 'lgamma', 'log', 'log10', 'log1p', 'log2', 'modf', 'nan', 'perm', 'pi', 'pow', 'prod', 'radians', 'remainder', 'sin', 'sinh', 'sqrt', 'tan', 'tanh', 'tau', 'trunc']\n",
      "Help on built-in function fmod in module math:\n",
      "\n",
      "fmod(x, y, \/)\n",
      "    Return fmod(x, y), according to platform C.\n",
      "    \n",
      "    x % y may differ.\n",
      "\n",
      "None\n"
     ],
     "output_type":"stream"
    }
   ],
   "metadata":{
    "datalore":{
     "node_id":"p7Ux68iTdceKfWdDFxqOxV",
     "type":"CODE",
     "hide_input_from_viewers":false,
     "hide_output_from_viewers":false
    }
   }
  }
 ],
 "metadata":{
  "kernelspec":{
   "display_name":"Python",
   "language":"python",
   "name":"python"
  },
  "datalore":{
   "version":1,
   "computation_mode":"JUPYTER",
   "package_manager":"pip",
   "base_environment":"default",
   "packages":[
    
   ]
  }
 },
 "nbformat":4,
 "nbformat_minor":4
}