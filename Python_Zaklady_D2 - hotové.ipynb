{
 "cells":[
  {
   "cell_type":"markdown",
   "source":[
    "# 🐍 Základy programovacieho jazyka Python (alt + 35)"
   ],
   "attachments":{
    
   },
   "metadata":{
    "datalore":{
     "node_id":"bBBN3TVHFMZmWSKTOrLaiQ",
     "type":"MD",
     "hide_input_from_viewers":false,
     "hide_output_from_viewers":false,
     "report_properties":{
      
     }
    }
   }
  },
  {
   "cell_type":"code",
   "source":[
    "import this"
   ],
   "execution_count":1,
   "outputs":[
    {
     "name":"stdout",
     "text":[
      "The Zen of Python, by Tim Peters\n",
      "\n",
      "Beautiful is better than ugly.\n",
      "Explicit is better than implicit.\n",
      "Simple is better than complex.\n",
      "Complex is better than complicated.\n",
      "Flat is better than nested.\n",
      "Sparse is better than dense.\n",
      "Readability counts.\n",
      "Special cases aren't special enough to break the rules.\n",
      "Although practicality beats purity.\n",
      "Errors should never pass silently.\n",
      "Unless explicitly silenced.\n",
      "In the face of ambiguity, refuse the temptation to guess.\n",
      "There should be one-- and preferably only one --obvious way to do it.\n",
      "Although that way may not be obvious at first unless you're Dutch.\n",
      "Now is better than never.\n",
      "Although never is often better than *right* now.\n",
      "If the implementation is hard to explain, it's a bad idea.\n",
      "If the implementation is easy to explain, it may be a good idea.\n",
      "Namespaces are one honking great idea -- let's do more of those!\n"
     ],
     "output_type":"stream"
    }
   ],
   "metadata":{
    "datalore":{
     "node_id":"9uTfMZusssSsgKRTlxI6Mn",
     "type":"CODE",
     "hide_input_from_viewers":false,
     "hide_output_from_viewers":false,
     "report_properties":{
      
     }
    }
   }
  },
  {
   "cell_type":"markdown",
   "source":[
    "## I. Riadiace štruktúry (Control flow)"
   ],
   "attachments":{
    
   },
   "metadata":{
    "datalore":{
     "node_id":"maJU3YyLtQCLO8TMqVpLa4",
     "type":"MD",
     "hide_input_from_viewers":false,
     "hide_output_from_viewers":false,
     "report_properties":{
      
     }
    }
   }
  },
  {
   "cell_type":"markdown",
   "source":[
    "1. if, else, elif - vetvenie, rozhodovat\n",
    "2. for - cyklus, opakovanie\n",
    "3. while - cyklus, opakovanie  \n",
    "break, continue"
   ],
   "attachments":{
    
   },
   "metadata":{
    "datalore":{
     "node_id":"7RUU1TgSNDeJJcb3z83XVg",
     "type":"MD",
     "hide_input_from_viewers":false,
     "hide_output_from_viewers":false,
     "report_properties":{
      
     }
    }
   }
  },
  {
   "cell_type":"markdown",
   "source":[
    "## II. Štruktúra If"
   ],
   "attachments":{
    
   },
   "metadata":{
    "datalore":{
     "node_id":"RaYH5zrmtN3DC1d6Uw7rNv",
     "type":"MD",
     "hide_input_from_viewers":false,
     "hide_output_from_viewers":false,
     "report_properties":{
      
     }
    }
   }
  },
  {
   "cell_type":"code",
   "source":[
    "# immmutable\/nemutovantelnost string\/retazce\n",
    "# Nemenné dátové typy sú tie, ktorých hodnoty nie je možné po vytvorení meniť\n",
    "meno_krstne = input(\"Zadaj svoje meno: \")\n",
    "meno_krstne = meno_krstne.strip().title()\n",
    "print(f\"Dobry den, {meno_krstne}\")\n",
    "\n",
    "vek = abs(int(input(\"Zadaj svoj vek: \")))\n",
    "print(f\"{meno_krstne} ma {vek} rokov\")\n",
    "\n",
    "# > < >= <= ==\n",
    "if vek >= 18:\n",
    "    print(\"Hura, dostanes vodicak...\")\n",
    "else:\n",
    "    print(\"Nedostanes vodicak...\")\n"
   ],
   "execution_count":19,
   "outputs":[
    {
     "name":"stdout",
     "text":[
      "Zadaj svoje meno:  DUSAN\n",
      "Dobry den, Dusan\n",
      "Zadaj svoj vek:  36\n",
      "Dusan ma 36 rokov\n",
      "Hura, dostanes vodicak...\n"
     ],
     "output_type":"stream"
    }
   ],
   "metadata":{
    "datalore":{
     "node_id":"ITEhcEe91wE82HHWualstZ",
     "type":"CODE",
     "hide_input_from_viewers":false,
     "hide_output_from_viewers":false,
     "report_properties":{
      
     }
    }
   }
  },
  {
   "cell_type":"code",
   "source":[
    "# moj pin na karte...\n",
    "pin1 = \"1234\"\n",
    "# pin na overovanie v bankomate\n",
    "# = priradenie\n",
    "# == porovnanie\n",
    "pin2 = input(\"Zadaj svoj PIN: \")\n",
    "\n",
    "if not(pin1 == pin2 or pin2 == \"9999\"):\n",
    "    print(\"Vitaj v bankomate...\")\n",
    "\n",
    "else:\n",
    "    print(\"Zadaj si zly PIN kod...\")"
   ],
   "execution_count":35,
   "outputs":[
    {
     "name":"stdout",
     "text":[
      "Zadaj svoj PIN:  9999\n",
      "Zadaj si zly PIN kod...\n"
     ],
     "output_type":"stream"
    }
   ],
   "metadata":{
    "datalore":{
     "node_id":"fOtJxL3lfgLPj6KfhsxZCf",
     "type":"CODE",
     "hide_input_from_viewers":true,
     "hide_output_from_viewers":true
    }
   }
  },
  {
   "cell_type":"code",
   "source":[
    "meno_krstne = input(\"Zadaj svoje meno: \")\n",
    "meno_krstne = meno_krstne.strip().title()\n",
    "\n",
    "if  meno_krstne == \"Anezka\":\n",
    "    print(\"Gratulujeme k meninam, ziskate zlavu 15 %\")\n",
    "# else if\n",
    "elif meno_krstne == \"Alan\":\n",
    "    print(\"Gratulujeme k meninam, ziskate zlavu 10 %\")\n",
    "else:\n",
    "    print(\"Skus to nabuduce, prid zajtra alebo ked budes mat meniny\")"
   ],
   "execution_count":38,
   "outputs":[
    {
     "name":"stdout",
     "text":[
      "Zadaj svoje meno:  Alan\n",
      "Gratulujeme k meninam, ziskate zlavu 10 %\n"
     ],
     "output_type":"stream"
    }
   ],
   "metadata":{
    "datalore":{
     "node_id":"KHOnTmUoF1FALLzHRxckpy",
     "type":"CODE",
     "hide_input_from_viewers":true,
     "hide_output_from_viewers":true
    }
   }
  },
  {
   "cell_type":"code",
   "source":[
    "5 == 6"
   ],
   "execution_count":21,
   "outputs":[
    {
     "data":{
      "text\/plain":[
       "False"
      ]
     },
     "metadata":{
      
     },
     "output_type":"display_data"
    }
   ],
   "metadata":{
    "datalore":{
     "node_id":"ifzPbQuZzJb8FCgh6By2C3",
     "type":"CODE",
     "hide_input_from_viewers":true,
     "hide_output_from_viewers":true
    }
   }
  },
  {
   "cell_type":"markdown",
   "source":[
    "## III. Logické operátory "
   ],
   "attachments":{
    
   },
   "metadata":{
    "datalore":{
     "node_id":"NIv39m1EocvwNjHXHdvX0g",
     "type":"MD",
     "hide_input_from_viewers":false,
     "hide_output_from_viewers":false,
     "report_properties":{
      
     }
    }
   }
  },
  {
   "cell_type":"code",
   "source":[
    "# a - and (log. súčin)\n",
    "# alebo - or (log. súčet)\n",
    "# negácia - not\n",
    " \n",
    "# True = log. 1\n",
    "# False = log. 0\n",
    "print(\"\\nAnd\")\n",
    "print(True and True and True)\n",
    "print(False and True and True) \n",
    "\n",
    "print(\"\\nOr\")\n",
    "print(True or True)\n",
    "print(True or True or True)\n",
    "print(True or False or True) \n",
    "print(False or False or False) \n",
    "\n",
    "print(\"\\nNot\")\n",
    "print(not(True or True))\n",
    "print(not(True or True or True))\n",
    "print(not(True or False or True)) \n",
    "print(not(False or False or False)) \n",
    "\n",
    "# = priradenie\n",
    "a = 3\n",
    "pocet_jablk = 352\n",
    "\n",
    "# == porovnanie, operator rovnosti, výstup je True alebo False\n",
    "print(\"\\nPorovnanie\")\n",
    "print(a == 5)\n",
    "print(a == 3)\n",
    "\n",
    "print(a != 5)\n",
    "print(a != 3)"
   ],
   "execution_count":null,
   "outputs":[
    {
     "name":"stdout",
     "text":[
      "\n",
      "And\n",
      "True\n",
      "False\n",
      "\n",
      "Or\n",
      "True\n",
      "True\n",
      "True\n",
      "False\n",
      "\n",
      "Not\n",
      "False\n",
      "False\n",
      "False\n",
      "True\n",
      "\n",
      "Porovnanie\n",
      "False\n",
      "True\n",
      "True\n",
      "False\n"
     ],
     "output_type":"stream"
    }
   ],
   "metadata":{
    "datalore":{
     "node_id":"Q3IJNQrkK4HzMTkxaCSbcz",
     "type":"CODE",
     "hide_input_from_viewers":false,
     "hide_output_from_viewers":false,
     "report_properties":{
      
     }
    }
   }
  },
  {
   "cell_type":"markdown",
   "source":[
    "## IV. Zoznamy, Range, Operátor in"
   ],
   "attachments":{
    
   },
   "metadata":{
    "datalore":{
     "node_id":"CZCMs5qrmyaHJNkf7WB81Q",
     "type":"MD",
     "hide_input_from_viewers":false,
     "hide_output_from_viewers":false,
     "report_properties":{
      
     }
    }
   }
  },
  {
   "cell_type":"code",
   "source":[
    "print(range(5))\n",
    "print(list(range(5)))\n",
    "print(list(range(50)))\n",
    "print(list(range(5, 10)))\n",
    "print(list(range(1, 11)))\n",
    "print(list(range(1, 11)))\n",
    "print(list(range(1, 11, 2)))\n",
    "print(list(range(0, 11, 2)))"
   ],
   "execution_count":46,
   "outputs":[
    {
     "name":"stdout",
     "text":[
      "range(0, 5)\n",
      "[0, 1, 2, 3, 4]\n",
      "[0, 1, 2, 3, 4, 5, 6, 7, 8, 9, 10, 11, 12, 13, 14, 15, 16, 17, 18, 19, 20, 21, 22, 23, 24, 25, 26, 27, 28, 29, 30, 31, 32, 33, 34, 35, 36, 37, 38, 39, 40, 41, 42, 43, 44, 45, 46, 47, 48, 49]\n",
      "[5, 6, 7, 8, 9]\n",
      "[1, 2, 3, 4, 5, 6, 7, 8, 9, 10]\n",
      "[1, 2, 3, 4, 5, 6, 7, 8, 9, 10]\n",
      "[1, 3, 5, 7, 9]\n",
      "[0, 2, 4, 6, 8, 10]\n"
     ],
     "output_type":"stream"
    }
   ],
   "metadata":{
    "datalore":{
     "node_id":"JNLqAThPJRMkc3SwISxA7D",
     "type":"CODE",
     "hide_input_from_viewers":false,
     "hide_output_from_viewers":false,
     "report_properties":{
      
     }
    }
   }
  },
  {
   "cell_type":"code",
   "source":[
    "if \"x\" in \"Xena\":\n",
    "    print(\"x tam je...\")\n",
    "else:\n",
    "    print(\"x tam nie je...\")"
   ],
   "execution_count":51,
   "outputs":[
    {
     "name":"stdout",
     "text":[
      "x tam nie je...\n"
     ],
     "output_type":"stream"
    }
   ],
   "metadata":{
    "datalore":{
     "node_id":"ySEeorhqL9HTNRY7hlDi5I",
     "type":"CODE",
     "hide_input_from_viewers":true,
     "hide_output_from_viewers":true
    }
   }
  },
  {
   "cell_type":"code",
   "source":[
    "print(\"\\nrange(5)\")\n",
    "for i in range(5):\n",
    "    print(f\"{i}. Ja chcem zit nonstop\")\n",
    "\n",
    "print(\"\\nrange(5, 10)\")\n",
    "for i in range(5, 10):\n",
    "    print(f\"{i}. Ja chcem zit nonstop\")\n",
    "\n",
    "print(\"\\nZoznam online kurzov:\")\n",
    "zoznam_online_kurzov = [\"Python Zaklady\", \"Python OOP\", \"Jazyk R\"]\n",
    "for kurz in zoznam_online_kurzov:\n",
    "    print(f\"✅ {kurz} je dostupny\")\n",
    "\n",
    "print(\"\\n[]\")\n",
    "for a in [1,2,3,4,5]:\n",
    "    print(a)"
   ],
   "execution_count":58,
   "outputs":[
    {
     "name":"stdout",
     "text":[
      "\n",
      "range(5)\n",
      "0. Ja chcem zit nonstop\n",
      "1. Ja chcem zit nonstop\n",
      "2. Ja chcem zit nonstop\n",
      "3. Ja chcem zit nonstop\n",
      "4. Ja chcem zit nonstop\n",
      "\n",
      "range(5, 10)\n",
      "5. Ja chcem zit nonstop\n",
      "6. Ja chcem zit nonstop\n",
      "7. Ja chcem zit nonstop\n",
      "8. Ja chcem zit nonstop\n",
      "9. Ja chcem zit nonstop\n",
      "\n",
      "Zoznam online kurzov:\n",
      "✅ Python Zaklady je dostupny\n",
      "✅ Python OOP je dostupny\n",
      "✅ Jazyk R je dostupny\n",
      "\n",
      "[]\n",
      "1\n",
      "2\n",
      "3\n",
      "4\n",
      "5\n"
     ],
     "output_type":"stream"
    }
   ],
   "metadata":{
    "datalore":{
     "node_id":"xdBgMMaY37Q2UYKMnOhpvt",
     "type":"CODE",
     "hide_input_from_viewers":true,
     "hide_output_from_viewers":true
    }
   }
  },
  {
   "cell_type":"markdown",
   "source":[
    "## V. Štruktúra for (cyklus)"
   ],
   "attachments":{
    
   },
   "metadata":{
    "datalore":{
     "node_id":"9TsMQrUiMNZTQ8r57pcfvu",
     "type":"MD",
     "hide_input_from_viewers":false,
     "hide_output_from_viewers":false,
     "report_properties":{
      
     }
    }
   }
  },
  {
   "cell_type":"code",
   "source":[
    "print(\"range(5)\")\n",
    "for i in range(5):\n",
    "    print(i, \". Ahoj svet\")\n",
    "\n",
    "print(\"\\nrange(1, 6)\")\n",
    "for i in range(1, 6):\n",
    "    print(i, \". Ahoj svet\")\n",
    "\n",
    "print(\"\\nZoznam zamestnancov:\")\n",
    "zoznam_zamestnanci = [\"Ivan\", \"Monika\", \"Maria\", \"Tomas\", \"Peter\", \"Milan\", \"Ursula\"]\n",
    "for j in zoznam_zamestnanci:\n",
    "    print(j)\n",
    "    \n",
    "sucet = 0\n",
    "rozsah = range(1,10)\n",
    "pocet_hodnot = len(list(rozsah))\n",
    "\n",
    "for i in rozsah:\n",
    "    sucet = sucet + i\n",
    "    \n",
    "    \n",
    "print(\"\\nsucet:\", sucet)\n",
    "print(list(rozsah))\n",
    "print(\"Pocet hodnot:\", pocet_hodnot)\n",
    "print(\"Priemer hodnot:\", sucet \/ pocet_hodnot)"
   ],
   "execution_count":null,
   "outputs":[
    {
     "name":"stdout",
     "text":[
      "range(5)\n",
      "0 . Ahoj svet\n",
      "1 . Ahoj svet\n",
      "2 . Ahoj svet\n",
      "3 . Ahoj svet\n",
      "4 . Ahoj svet\n",
      "\n",
      "range(1, 6)\n",
      "1 . Ahoj svet\n",
      "2 . Ahoj svet\n",
      "3 . Ahoj svet\n",
      "4 . Ahoj svet\n",
      "5 . Ahoj svet\n",
      "\n",
      "Zoznam zamestnancov:\n",
      "Ivan\n",
      "Monika\n",
      "Maria\n",
      "Tomas\n",
      "Peter\n",
      "Milan\n",
      "Ursula\n",
      "\n",
      "sucet: 45\n",
      "[1, 2, 3, 4, 5, 6, 7, 8, 9]\n",
      "Pocet hodnot: 9\n",
      "Priemer hodnot: 5.0\n"
     ],
     "output_type":"stream"
    }
   ],
   "metadata":{
    "datalore":{
     "node_id":"e8imaWs1xi999395Mh6kjM",
     "type":"CODE",
     "hide_input_from_viewers":false,
     "hide_output_from_viewers":false,
     "report_properties":{
      
     }
    }
   }
  },
  {
   "cell_type":"markdown",
   "source":[
    "## VI. Operátory"
   ],
   "attachments":{
    
   },
   "metadata":{
    "datalore":{
     "node_id":"0tuxbZMmvnYiZ4ZasB9s0j",
     "type":"MD",
     "hide_input_from_viewers":false,
     "hide_output_from_viewers":false,
     "report_properties":{
      
     }
    }
   }
  },
  {
   "cell_type":"markdown",
   "source":[
    "Unárne - 1 (not)\n",
    "Binárne - 2 (* \/ and or)\n",
    "Ternárne - 3 if else\n",
    "python list comprehension"
   ],
   "attachments":{
    
   },
   "metadata":{
    "datalore":{
     "node_id":"SsfiO99XOzYfpaxioHUOQx",
     "type":"MD",
     "hide_input_from_viewers":false,
     "hide_output_from_viewers":false,
     "report_properties":{
      
     }
    }
   }
  },
  {
   "cell_type":"code",
   "source":[
    "\"true\" if True else False\n",
    "\"true\" if False else False"
   ],
   "execution_count":null,
   "outputs":[
    {
     "data":{
      "text\/plain":[
       "False"
      ]
     },
     "metadata":{
      
     },
     "output_type":"display_data"
    }
   ],
   "metadata":{
    "datalore":{
     "node_id":"8YnHUgssWTqMZ444lvSyZM",
     "type":"CODE",
     "hide_input_from_viewers":false,
     "hide_output_from_viewers":false,
     "report_properties":{
      
     }
    }
   }
  },
  {
   "cell_type":"markdown",
   "source":[
    "## VIII. Reverzné prechádzanie, enumerácia"
   ],
   "attachments":{
    
   },
   "metadata":{
    "datalore":{
     "node_id":"YtW5nkORBpGVPLdjeAkaXE",
     "type":"MD",
     "hide_input_from_viewers":false,
     "hide_output_from_viewers":false,
     "report_properties":{
      
     }
    }
   }
  },
  {
   "cell_type":"code",
   "source":[
    "print(\"\\nZoznam zamestnancov:\")\n",
    "zoznam_zamestnanci = [\"Ivan\", \"Monika\", \"Maria\", \"Tomas\", \"Peter\", \"Milan\", \"Ursula\"]\n",
    "print(zoznam_zamestnanci,)\n",
    "\n",
    "print(\"\\nReverzny zoznam zamestnancov:\")\n",
    "for zamestnanec in reversed(zoznam_zamestnanci):\n",
    "    print(zamestnanec, end=\", \")\n",
    "    \n",
    "print(\"\\nCislovany zoznam zamestnancov:\")\n",
    "for i, zamestnanec in enumerate(zoznam_zamestnanci):\n",
    "    print(i+1, \"-->\" , zamestnanec)"
   ],
   "execution_count":75,
   "outputs":[
    {
     "name":"stdout",
     "text":[
      "\n",
      "Zoznam zamestnancov:\n",
      "['Ivan', 'Monika', 'Maria', 'Tomas', 'Peter', 'Milan', 'Ursula']\n",
      "\n",
      "Reverzny zoznam zamestnancov:\n",
      "Ursula, Milan, Peter, Tomas, Maria, Monika, Ivan, \n",
      "Cislovany zoznam zamestnancov:\n",
      "1 --> Ivan\n",
      "2 --> Monika\n",
      "3 --> Maria\n",
      "4 --> Tomas\n",
      "5 --> Peter\n",
      "6 --> Milan\n",
      "7 --> Ursula\n"
     ],
     "output_type":"stream"
    }
   ],
   "metadata":{
    "datalore":{
     "node_id":"VUTgIutuPQCDZfV2XDjOO7",
     "type":"CODE",
     "hide_input_from_viewers":false,
     "hide_output_from_viewers":false,
     "report_properties":{
      
     }
    }
   }
  },
  {
   "cell_type":"code",
   "source":[
    "print(\"Dnes je peky den\", \"Dalsi den je super\", \"Karol\", sep=\" | \", end = \" \")\n",
    "print(\"Dnes je peky den\", \"Dalsi den je super\", \"Eva\", sep=\" | \", end = \" \")"
   ],
   "execution_count":70,
   "outputs":[
    {
     "name":"stdout",
     "text":[
      "Dnes je peky den | Dalsi den je super | Karol Dnes je peky den | Dalsi den je super | Eva "
     ],
     "output_type":"stream"
    }
   ],
   "metadata":{
    "datalore":{
     "node_id":"0vRX5HSPIKv2SsXbNWQP0T",
     "type":"CODE",
     "hide_input_from_viewers":true,
     "hide_output_from_viewers":true
    }
   }
  },
  {
   "cell_type":"markdown",
   "source":[
    "## IX. Štruktúra while (cyklus), break"
   ],
   "attachments":{
    
   },
   "metadata":{
    "datalore":{
     "node_id":"Iasog3VERWo9sYpHsf94qC",
     "type":"MD",
     "hide_input_from_viewers":false,
     "hide_output_from_viewers":false,
     "report_properties":{
      
     }
    }
   }
  },
  {
   "cell_type":"code",
   "source":[
    "pocet_pokus = abs(int(input(\"Zadajte pocet pokusov: \")))\n",
    "\n",
    "while pocet_pokus <= 10:\n",
    "    print(f\"{pocet_pokus}. chcem zit nonstop\")\n",
    "    # Zakladny zapis\n",
    "    # pocet_pokus = pocet_pokus + 1\n",
    "    # Skrateny programatorsky zapis\n",
    "    # += -= \/= *=\n",
    "    pocet_pokus += 1"
   ],
   "execution_count":5,
   "outputs":[
    {
     "name":"stdout",
     "text":[
      "Zadajte pocet pokusov:  5\n",
      "5. chcem zit nonstop\n",
      "6. chcem zit nonstop\n",
      "7. chcem zit nonstop\n",
      "8. chcem zit nonstop\n",
      "9. chcem zit nonstop\n",
      "10. chcem zit nonstop\n"
     ],
     "output_type":"stream"
    }
   ],
   "metadata":{
    "datalore":{
     "node_id":"H8BRpdaPX4RVzZBhftnm1q",
     "type":"CODE",
     "hide_input_from_viewers":false,
     "hide_output_from_viewers":false,
     "report_properties":{
      
     }
    }
   }
  },
  {
   "cell_type":"code",
   "source":[
    "rok = 2022\n",
    "while True:  \n",
    "    if rok >= 2030:\n",
    "        print(\"Koncime\")\n",
    "        break\n",
    "        \n",
    "    rok += 1\n",
    "    print(\"Chcem zit nonstop v roku \", rok)\n",
    "\n",
    "# ..."
   ],
   "execution_count":6,
   "outputs":[
    {
     "name":"stdout",
     "text":[
      "Chcem zit nonstop v roku  2023\n",
      "Chcem zit nonstop v roku  2024\n",
      "Chcem zit nonstop v roku  2025\n",
      "Chcem zit nonstop v roku  2026\n",
      "Chcem zit nonstop v roku  2027\n",
      "Chcem zit nonstop v roku  2028\n",
      "Chcem zit nonstop v roku  2029\n",
      "Chcem zit nonstop v roku  2030\n",
      "Koncime\n"
     ],
     "output_type":"stream"
    }
   ],
   "metadata":{
    "datalore":{
     "node_id":"we7CKbZ7EqStEEf6yxOnMK",
     "type":"CODE",
     "hide_input_from_viewers":true,
     "hide_output_from_viewers":true
    }
   }
  },
  {
   "cell_type":"markdown",
   "source":[
    "## X. Continue"
   ],
   "attachments":{
    
   },
   "metadata":{
    "datalore":{
     "node_id":"H9jOqC9CNPagHqDbBh1HXw",
     "type":"MD",
     "hide_input_from_viewers":false,
     "hide_output_from_viewers":false,
     "report_properties":{
      
     }
    }
   }
  },
  {
   "cell_type":"code",
   "source":[
    "for i in range(0,20):\n",
    "    if i % 2 == 1:\n",
    "        continue\n",
    "    print(i)"
   ],
   "execution_count":null,
   "outputs":[
    {
     "name":"stdout",
     "text":[
      "0\n",
      "2\n",
      "4\n",
      "6\n",
      "8\n",
      "10\n",
      "12\n",
      "14\n",
      "16\n",
      "18\n"
     ],
     "output_type":"stream"
    }
   ],
   "metadata":{
    "datalore":{
     "node_id":"I09775OgUWKfrGqmbENJ7b",
     "type":"CODE",
     "hide_input_from_viewers":false,
     "hide_output_from_viewers":false,
     "report_properties":{
      
     }
    }
   }
  },
  {
   "cell_type":"markdown",
   "source":[
    "## XI. Práca so súbormi"
   ],
   "attachments":{
    
   },
   "metadata":{
    "datalore":{
     "node_id":"mzc7iDhZBqszZRfjBh4kfW",
     "type":"MD",
     "hide_input_from_viewers":false,
     "hide_output_from_viewers":false,
     "report_properties":{
      
     }
    }
   }
  },
  {
   "cell_type":"code",
   "source":[
    "import datetime\n",
    "import time\n",
    "\n",
    "dnesny_datumcas = datetime.datetime.now()\n",
    "print(f\"Dnes je {dnesny_datumcas}\")\n",
    "\n",
    "# w - write - zapis\n",
    "# r - read - citanie\n",
    "# a - append - pripajanie\/pridat obsahu\n",
    "# b - binary\n",
    "subor = open(\"kurz-python_zaklady.txt\", mode=\"a\", encoding=\"utf-8\")\n",
    "subor.write(\"V pythone vies robi cokolvek...\\n\")\n",
    "subor.write(\"Ano aj videohry..\\n\")\n",
    "\n",
    "print(\"Som zapisal do suboru...\")\n",
    "\n",
    "subor.close()"
   ],
   "execution_count":20,
   "outputs":[
    {
     "name":"stdout",
     "text":[
      "Dnes je 2023-03-02 10:39:21.371653\n",
      "Som zapisal do suboru...\n"
     ],
     "output_type":"stream"
    }
   ],
   "metadata":{
    "datalore":{
     "node_id":"v7bax0yRZ7ZNUBg9JWx5cx",
     "type":"CODE",
     "hide_input_from_viewers":false,
     "hide_output_from_viewers":false,
     "report_properties":{
      
     }
    }
   }
  },
  {
   "cell_type":"code",
   "source":[
    "try:\n",
    "    subor = open(\"kurz-python_zaklady.txt\", mode=\"r\", encoding=\"utf-8\")\n",
    "    print(subor.readlines(2))\n",
    "\n",
    "finally:\n",
    "    subor.close()"
   ],
   "execution_count":31,
   "outputs":[
    {
     "name":"stdout",
     "text":[
      "['V pythone vies robi cokolvek...\\n']\n"
     ],
     "output_type":"stream"
    }
   ],
   "metadata":{
    "datalore":{
     "node_id":"lz7dbrEW3h6dqiBTCbfcgc",
     "type":"CODE",
     "hide_input_from_viewers":false,
     "hide_output_from_viewers":false,
     "report_properties":{
      
     }
    }
   }
  },
  {
   "cell_type":"code",
   "source":[
    "print(1 + 1)\n",
    "print(\"Karol\" + \"Eva\")\n",
    "print(str(1) + \"Eva\")"
   ],
   "execution_count":null,
   "outputs":[
    {
     "name":"stdout",
     "text":[
      "2\n",
      "KarolEva\n",
      "1Eva\n"
     ],
     "output_type":"stream"
    }
   ],
   "metadata":{
    "datalore":{
     "node_id":"NCYLP6feETwJohk7N1xvDh",
     "type":"CODE",
     "hide_input_from_viewers":false,
     "hide_output_from_viewers":false,
     "report_properties":{
      
     }
    }
   }
  },
  {
   "cell_type":"markdown",
   "source":[
    "## XII. Slovníky (dict) a množiny (sets)"
   ],
   "attachments":{
    
   },
   "metadata":{
    "datalore":{
     "node_id":"08Ru69ExEviCmFtC964tf5",
     "type":"MD",
     "hide_input_from_viewers":false,
     "hide_output_from_viewers":false,
     "report_properties":{
      
     }
    }
   }
  },
  {
   "cell_type":"code",
   "source":[
    "# zoznam\/list []\n",
    "# tica\/tupple ()\n",
    "# slovnik\/dict {}\n",
    "slovnik = {}\n",
    "slovnik = dict()\n",
    "\n",
    "# Par Kluc : hodnota (Key : Value), asociativne polia\/zoznamy\n",
    "# Kluc = index (vlastny)\n",
    "# JSON\n",
    "rodina = {\"Mama\" : \"Monika\", \"Otec\" : \"Jozef\", \"Brat\" : \"Michal\", \"Teta\": \"Anna\"}\n",
    "print(\"Obsah:\", rodina, \"typ:\", type(rodina))\n",
    "print(\"1. v slovnik:\", rodina[\"Mama\"])\n",
    "print(\"Teta:\", rodina[\"Teta\"])\n",
    "\n",
    "for k in rodina:\n",
    "    print(\"Kluc je:\", k, \"ma hodnotu\", rodina[k])\n",
    "    \n",
    "zoznam_zamestnanci = [\"Ivan\", \"Monika\", \"Maria\", \"Tomas\", \"Peter\", \"Milan\", \"Ursula\"]\n",
    "pozicia = [\"programator\",\"analytik\",\"personalista\", \"programator\", \"analytik\", \"personalista\"]\n",
    "\n",
    "slovnik_zamestnanci_pozicie = dict(zip(zoznam_zamestnanci, pozicia))\n",
    "print(\"Obsah:\", slovnik_zamestnanci_pozicie, \"typ:\", type(slovnik_zamestnanci_pozicie))\n",
    "\n",
    "slovnik_pozicie_cislovane = dict(enumerate(pozicia))\n",
    "print(\"Obsah:\", slovnik_pozicie_cislovane, \"typ:\", type(slovnik_pozicie_cislovane))\n",
    "\n",
    "mnozina_produkty = {\"Notebooky\", \"Mysky\", \"Tlaciaren\"}\n",
    "print(\"Obsah:\", mnozina_produkty, \"typ:\", type(mnozina_produkty))"
   ],
   "execution_count":null,
   "outputs":[
    {
     "name":"stdout",
     "text":[
      "Obsah: {'Mama': 'Monika', 'Otec': 'Jozef', 'Brat': 'Michal', 'Teta': 'Anna'} typ: <class 'dict'>\n",
      "1. v slovnik: Monika\n",
      "Teta: Anna\n",
      "Kluc je: Mama ma hodnotu Monika\n",
      "Kluc je: Otec ma hodnotu Jozef\n",
      "Kluc je: Brat ma hodnotu Michal\n",
      "Kluc je: Teta ma hodnotu Anna\n",
      "Obsah: {'Ivan': 'programator', 'Monika': 'analytik', 'Maria': 'personalista', 'Tomas': 'programator', 'Peter': 'analytik', 'Milan': 'personalista'} typ: <class 'dict'>\n",
      "Obsah: {0: 'programator', 1: 'analytik', 2: 'personalista', 3: 'programator', 4: 'analytik', 5: 'personalista'} typ: <class 'dict'>\n",
      "Obsah: {'Mysky', 'Tlaciaren', 'Notebooky'} typ: <class 'set'>\n"
     ],
     "output_type":"stream"
    }
   ],
   "metadata":{
    "datalore":{
     "node_id":"gZyOjQPPq4lVminhohlUJn",
     "type":"CODE",
     "hide_input_from_viewers":false,
     "hide_output_from_viewers":false,
     "report_properties":{
      
     }
    }
   }
  },
  {
   "cell_type":"markdown",
   "source":[
    "## XIII. Vlastné funkcie\/podprogram (definicie)"
   ],
   "attachments":{
    
   },
   "metadata":{
    "datalore":{
     "node_id":"2Rcn6t61u5ylkNov1E0774",
     "type":"MD",
     "hide_input_from_viewers":false,
     "hide_output_from_viewers":false,
     "report_properties":{
      
     }
    }
   }
  },
  {
   "cell_type":"code",
   "source":[
    "import math\n",
    "\n",
    "# Vasa vlastna funkcia...\n",
    "def vypis_cau():\n",
    "    print(\"Cau 😎...\")\n",
    "\n",
    "def vypocitaj_obvod_stvorec(a):\n",
    "    \"\"\"Funkcia na vypocet obvodu stvorca\n",
    "        a - dlzka v m napr. 5\n",
    "    \"\"\"\n",
    "    print(f\"Obvod stvorca je -> {abs(4*a)} m^2\")\n",
    "\n",
    "def vypocitaj_obvod_kruhu(r):\n",
    "    obvod_kruh = round(2 * math.pi * r)\n",
    "    print(f\"Obvod kruhu je -> {obvod_kruh} m^2\")\n",
    "\n",
    "def vypis_cele_meno(m, p):\n",
    "    \"\"\"\n",
    "        m - krstne meno - napr. Adam\n",
    "        p - priezvisko - napr. Sangala\n",
    "    \"\"\"\n",
    "    cele_meno = m.strip() + \" \" + p.strip()\n",
    "    cele_meno = cele_meno.title()\n",
    "    return cele_meno\n",
    "\n",
    "vypis_cau()\n",
    "vypocitaj_obvod_stvorec(-6.329)\n",
    "vypocitaj_obvod_kruhu(10)\n",
    "print(vypis_cele_meno(\"Adam\", \"Sangala\"))\n",
    "print(vypis_cele_meno(\"  zuzka  \", \"  bielikova  \"))\n"
   ],
   "execution_count":18,
   "outputs":[
    {
     "name":"stdout",
     "text":[
      "Cau 😎...\n",
      "Obvod stvorca je -> 25.316 m^2\n",
      "Obvod kruhu je -> 63 m^2\n",
      "Adam Sangala\n",
      "Zuzka Bielikova\n"
     ],
     "output_type":"stream"
    }
   ],
   "metadata":{
    "datalore":{
     "node_id":"dcfUv2bvmxgOcGYKwDBNEx",
     "type":"CODE",
     "hide_input_from_viewers":false,
     "hide_output_from_viewers":false,
     "report_properties":{
      
     }
    }
   }
  },
  {
   "cell_type":"code",
   "source":[
    
   ],
   "execution_count":null,
   "outputs":[
    
   ],
   "metadata":{
    "datalore":{
     "node_id":"wiykd2OBR1ZbeUH0UrgKWB",
     "type":"CODE",
     "hide_input_from_viewers":false,
     "hide_output_from_viewers":false,
     "report_properties":{
      
     }
    }
   }
  },
  {
   "cell_type":"code",
   "source":[
    "!pip install pytube"
   ],
   "execution_count":null,
   "outputs":[
    
   ],
   "metadata":{
    "datalore":{
     "node_id":"DhD9BOC2TyjlmpK3Ockdtb",
     "type":"CODE",
     "hide_input_from_viewers":true,
     "hide_output_from_viewers":true
    }
   }
  }
 ],
 "metadata":{
  "kernelspec":{
   "display_name":"Python",
   "language":"python",
   "name":"python"
  },
  "datalore":{
   "version":1,
   "computation_mode":"JUPYTER",
   "package_manager":"pip",
   "base_environment":"default",
   "packages":[
    
   ]
  }
 },
 "nbformat":4,
 "nbformat_minor":4
}