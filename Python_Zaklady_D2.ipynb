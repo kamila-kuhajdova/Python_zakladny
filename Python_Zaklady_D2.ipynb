{
 "cells": [
  {
   "cell_type": "markdown",
   "id": "74ec352d",
   "metadata": {},
   "source": [
    "# 🐍 Základy programovacieho jazyka Python (alt + 35)"
   ]
  },
  {
   "cell_type": "code",
   "execution_count": 1,
   "id": "04dff6c2",
   "metadata": {},
   "outputs": [
    {
     "name": "stdout",
     "output_type": "stream",
     "text": [
      "The Zen of Python, by Tim Peters\n",
      "\n",
      "Beautiful is better than ugly.\n",
      "Explicit is better than implicit.\n",
      "Simple is better than complex.\n",
      "Complex is better than complicated.\n",
      "Flat is better than nested.\n",
      "Sparse is better than dense.\n",
      "Readability counts.\n",
      "Special cases aren't special enough to break the rules.\n",
      "Although practicality beats purity.\n",
      "Errors should never pass silently.\n",
      "Unless explicitly silenced.\n",
      "In the face of ambiguity, refuse the temptation to guess.\n",
      "There should be one-- and preferably only one --obvious way to do it.\n",
      "Although that way may not be obvious at first unless you're Dutch.\n",
      "Now is better than never.\n",
      "Although never is often better than *right* now.\n",
      "If the implementation is hard to explain, it's a bad idea.\n",
      "If the implementation is easy to explain, it may be a good idea.\n",
      "Namespaces are one honking great idea -- let's do more of those!\n"
     ]
    }
   ],
   "source": [
    "import this"
   ]
  },
  {
   "cell_type": "markdown",
   "id": "e7bfaa58",
   "metadata": {},
   "source": [
    "## I. Riadiace štruktúry (Control flow)"
   ]
  },
  {
   "cell_type": "markdown",
   "id": "f0127298",
   "metadata": {},
   "source": [
    "1. if, else, elif - vetvenie, rozhodovat\n",
    "2. for - cyklus, opakovanie\n",
    "3. while - cyklus, opakovanie  \n",
    "break, continue"
   ]
  },
  {
   "cell_type": "markdown",
   "id": "57d33a07",
   "metadata": {},
   "source": [
    "## II. Štruktúra If"
   ]
  },
  {
   "cell_type": "code",
   "execution_count": 47,
   "id": "dfe0d9d7",
   "metadata": {},
   "outputs": [
    {
     "name": "stdout",
     "output_type": "stream",
     "text": [
      "Kolko mas rokov --> 18\n",
      "Mas 18 rokov\n",
      "Dostanes vodicak...\n",
      "Gratulujem, už si dospelý\n"
     ]
    }
   ],
   "source": [
    "vek = abs(int(input(\"Kolko mas rokov --> \")))\n",
    "print(\"Mas\", vek, \"rokov\")\n",
    "\n",
    "# if vek >= 18:\n",
    "#     print(\"Dostanes vodicak...\")\n",
    "# else:\n",
    "#     print(\"Nedostanes vodicak...\")\n",
    "\n",
    "# if vek < 18:\n",
    "#     print(\"Nedostanes vodicak...\")\n",
    "# elif vek < 90:\n",
    "#     print(\"Dostanes vodicak...\")\n",
    "# else:\n",
    "#     print(\"Nedostanes vodicak...\")\n",
    "\n",
    "if ((vek >= 18) and (vek < 90)):\n",
    "    print(\"Dostanes vodicak...\")\n",
    "else:\n",
    "    print(\"Nedostanes vodicak...\")\n",
    "    \n",
    "if vek == 18:\n",
    "    print(\"Gratulujem, už si dospelý\")\n",
    "    pass\n",
    "\n",
    "# Koniec..."
   ]
  },
  {
   "cell_type": "markdown",
   "id": "b7406ad2",
   "metadata": {},
   "source": [
    "## III. Logické operátory "
   ]
  },
  {
   "cell_type": "code",
   "execution_count": 46,
   "id": "e7cb592f",
   "metadata": {},
   "outputs": [
    {
     "name": "stdout",
     "output_type": "stream",
     "text": [
      "\n",
      "And\n",
      "True\n",
      "False\n",
      "\n",
      "Or\n",
      "True\n",
      "True\n",
      "True\n",
      "False\n",
      "\n",
      "Not\n",
      "False\n",
      "False\n",
      "False\n",
      "True\n",
      "\n",
      "Porovnanie\n",
      "False\n",
      "True\n",
      "True\n",
      "False\n"
     ]
    }
   ],
   "source": [
    "# a - and (log. súčin)\n",
    "# alebo - or (log. súčet)\n",
    "# negácia - not\n",
    " \n",
    "# True = log. 1\n",
    "# False = log. 0\n",
    "print(\"\\nAnd\")\n",
    "print(True and True and True)\n",
    "print(False and True and True) \n",
    "\n",
    "print(\"\\nOr\")\n",
    "print(True or True)\n",
    "print(True or True or True)\n",
    "print(True or False or True) \n",
    "print(False or False or False) \n",
    "\n",
    "print(\"\\nNot\")\n",
    "print(not(True or True))\n",
    "print(not(True or True or True))\n",
    "print(not(True or False or True)) \n",
    "print(not(False or False or False)) \n",
    "\n",
    "# = priradenie\n",
    "a = 3\n",
    "pocet_jablk = 352\n",
    "\n",
    "# == porovnanie, operator rovnosti, výstup je True alebo False\n",
    "print(\"\\nPorovnanie\")\n",
    "print(a == 5)\n",
    "print(a == 3)\n",
    "\n",
    "print(a != 5)\n",
    "print(a != 3)"
   ]
  },
  {
   "cell_type": "markdown",
   "id": "24bce8f2",
   "metadata": {},
   "source": [
    "## IV. Zoznamy, Range, Operátor in"
   ]
  },
  {
   "cell_type": "code",
   "execution_count": 77,
   "id": "9cb0f7ef",
   "metadata": {},
   "outputs": [
    {
     "name": "stdout",
     "output_type": "stream",
     "text": [
      "Celkovy pocet zamestnancov --> 7\n",
      "1. zamestnanec, 0. index --> Ivan\n",
      "2. zamestnanec, 1. index --> Monika\n",
      "5. zamestnanec, 4. index --> Peter\n",
      "\n",
      "Posledny zamestnanec, -1 index --> Ursula\n",
      "Predposledny zamestnanec, -2 index --> Milan\n",
      "Milan, -3 index --> Peter\n",
      "\n",
      "Posledny zamestnanec, -1 index --> Ursula\n",
      "Predposledny zamestnanec, -2 index --> Milan\n",
      "\n",
      "Range:\n",
      "[0, 1, 2, 3, 4]\n",
      "[0, 1, 2, 3, 4, 5, 6, 7, 8, 9]\n",
      "[1, 2, 3, 4, 5, 6, 7, 8, 9]\n",
      "[-10, -9, -8, -7, -6, -5, -4, -3, -2, -1, 0, 1, 2, 3, 4, 5, 6, 7, 8, 9, 10]\n",
      "[-10, -8, -6, -4, -2, 0, 2, 4, 6, 8, 10]\n",
      "\n",
      "Operator in retazec\n",
      "True\n",
      "False\n",
      "False\n",
      "\n",
      "Operator in zoznam\n",
      "True\n",
      "True\n",
      "False\n"
     ]
    }
   ],
   "source": [
    "zoznam_zamestnanci = [\"Ivan\", \"Monika\", \"Maria\", \"Tomas\", \"Peter\", \"Milan\", \"Ursula\"]\n",
    "print(\"Celkovy pocet zamestnancov -->\", len(zoznam_zamestnanci))\n",
    "print(\"1. zamestnanec, 0. index -->\", zoznam_zamestnanci[0])\n",
    "print(\"2. zamestnanec, 1. index -->\", zoznam_zamestnanci[1])\n",
    "print(\"5. zamestnanec, 4. index -->\", zoznam_zamestnanci[4])\n",
    "\n",
    "print(\"\\nPosledny zamestnanec, -1 index -->\", zoznam_zamestnanci[-1])\n",
    "print(\"Predposledny zamestnanec, -2 index -->\", zoznam_zamestnanci[-2])\n",
    "print(\"Milan, -3 index -->\", zoznam_zamestnanci[-3])\n",
    "\n",
    "print(\"\\nPosledny zamestnanec, -1 index -->\", zoznam_zamestnanci[len(zoznam_zamestnanci) - 1])\n",
    "print(\"Predposledny zamestnanec, -2 index -->\", zoznam_zamestnanci[len(zoznam_zamestnanci) - 2])\n",
    "\n",
    "print(\"\\nRange:\")\n",
    "rozsah = range(5)\n",
    "print(list(rozsah))\n",
    "\n",
    "rozsah = range(10)\n",
    "print(list(rozsah))\n",
    "\n",
    "rozsah = range(1, 10)\n",
    "print(list(rozsah))\n",
    "\n",
    "rozsah = range(-10, 11)\n",
    "print(list(rozsah))\n",
    "\n",
    "rozsah = range(-10, 11, 2)\n",
    "print(list(rozsah))\n",
    "\n",
    "# print(dir())\n",
    "\n",
    "print(\"\\nOperator in retazec\")\n",
    "print(\"K\" in \"Karol\")\n",
    "print(\"X\" in \"Karol\")\n",
    "print(\"k\" in \"Karol\")\n",
    "\n",
    "print(\"\\nOperator in zoznam\")\n",
    "zoznam_zamestnanci = [\"Ivan\", \"Monika\", \"Maria\", \"Tomas\", \"Peter\", \"Milan\", \"Ursula\"]\n",
    "print(\"Ivan\" in zoznam_zamestnanci)\n",
    "print(\"Ursula\" in zoznam_zamestnanci)\n",
    "print(\"Adam\" in zoznam_zamestnanci)"
   ]
  },
  {
   "cell_type": "markdown",
   "id": "d63c63ce",
   "metadata": {},
   "source": [
    "## V. Štruktúra for (cyklus)"
   ]
  },
  {
   "cell_type": "code",
   "execution_count": 102,
   "id": "ec40a7b0",
   "metadata": {},
   "outputs": [
    {
     "name": "stdout",
     "output_type": "stream",
     "text": [
      "range(5)\n",
      "0 . Ahoj svet\n",
      "1 . Ahoj svet\n",
      "2 . Ahoj svet\n",
      "3 . Ahoj svet\n",
      "4 . Ahoj svet\n",
      "\n",
      "range(1, 6)\n",
      "1 . Ahoj svet\n",
      "2 . Ahoj svet\n",
      "3 . Ahoj svet\n",
      "4 . Ahoj svet\n",
      "5 . Ahoj svet\n",
      "\n",
      "Zoznam zamestnancov:\n",
      "Ivan\n",
      "Monika\n",
      "Maria\n",
      "Tomas\n",
      "Peter\n",
      "Milan\n",
      "Ursula\n",
      "\n",
      "sucet: 45\n",
      "[1, 2, 3, 4, 5, 6, 7, 8, 9]\n",
      "Pocet hodnot: 9\n",
      "Priemer hodnot: 5.0\n"
     ]
    }
   ],
   "source": [
    "print(\"range(5)\")\n",
    "for i in range(5):\n",
    "    print(i, \". Ahoj svet\")\n",
    "\n",
    "print(\"\\nrange(1, 6)\")\n",
    "for i in range(1, 6):\n",
    "    print(i, \". Ahoj svet\")\n",
    "\n",
    "print(\"\\nZoznam zamestnancov:\")\n",
    "zoznam_zamestnanci = [\"Ivan\", \"Monika\", \"Maria\", \"Tomas\", \"Peter\", \"Milan\", \"Ursula\"]\n",
    "for j in zoznam_zamestnanci:\n",
    "    print(j)\n",
    "    \n",
    "sucet = 0\n",
    "rozsah = range(1,10)\n",
    "pocet_hodnot = len(list(rozsah))\n",
    "\n",
    "for i in rozsah:\n",
    "    sucet = sucet + i\n",
    "    \n",
    "    \n",
    "print(\"\\nsucet:\", sucet)\n",
    "print(list(rozsah))\n",
    "print(\"Pocet hodnot:\", pocet_hodnot)\n",
    "print(\"Priemer hodnot:\", sucet / pocet_hodnot)\n"
   ]
  },
  {
   "cell_type": "markdown",
   "id": "db85c42f",
   "metadata": {},
   "source": [
    "## VI. Operátory"
   ]
  },
  {
   "cell_type": "markdown",
   "id": "6f64907c",
   "metadata": {},
   "source": [
    "Unárne - 1 (not)\n",
    "Binárne - 2 (* / and or)\n",
    "Ternárne - 3 if else\n",
    "python list comprehension"
   ]
  },
  {
   "cell_type": "code",
   "execution_count": 107,
   "id": "b3c28fd0",
   "metadata": {},
   "outputs": [
    {
     "data": {
      "text/plain": [
       "False"
      ]
     },
     "execution_count": 107,
     "metadata": {},
     "output_type": "execute_result"
    }
   ],
   "source": [
    "\"true\" if True else False\n",
    "\"true\" if False else False"
   ]
  },
  {
   "cell_type": "markdown",
   "id": "8e9230e7",
   "metadata": {},
   "source": [
    "## VIII. Reverzné prechádzanie, enumerácia"
   ]
  },
  {
   "cell_type": "code",
   "execution_count": 116,
   "id": "2295db4d",
   "metadata": {},
   "outputs": [
    {
     "name": "stdout",
     "output_type": "stream",
     "text": [
      "\n",
      "Zoznam zamestnancov:\n",
      "['Ivan', 'Monika', 'Maria', 'Tomas', 'Peter', 'Milan', 'Ursula']\n",
      "\n",
      "Reverzny zoznam zamestnancov:\n",
      "Ursula\n",
      "Milan\n",
      "Peter\n",
      "Tomas\n",
      "Maria\n",
      "Monika\n",
      "Ivan\n",
      "\n",
      "Cislovany zoznam zamestnancov:\n",
      "1 --> Ivan\n",
      "2 --> Monika\n",
      "3 --> Maria\n",
      "4 --> Tomas\n",
      "5 --> Peter\n",
      "6 --> Milan\n",
      "7 --> Ursula\n"
     ]
    }
   ],
   "source": [
    "print(\"\\nZoznam zamestnancov:\")\n",
    "zoznam_zamestnanci = [\"Ivan\", \"Monika\", \"Maria\", \"Tomas\", \"Peter\", \"Milan\", \"Ursula\"]\n",
    "print(zoznam_zamestnanci)\n",
    "\n",
    "print(\"\\nReverzny zoznam zamestnancov:\")\n",
    "for zamestnanec in reversed(zoznam_zamestnanci):\n",
    "    print(zamestnanec)\n",
    "    \n",
    "print(\"\\nCislovany zoznam zamestnancov:\")\n",
    "for i, zamestnanec in enumerate(zoznam_zamestnanci):\n",
    "    print(i+1, \"-->\" , zamestnanec)"
   ]
  },
  {
   "cell_type": "markdown",
   "id": "36d9a877",
   "metadata": {},
   "source": [
    "## IX. Štruktúra while (cyklus), break"
   ]
  },
  {
   "cell_type": "code",
   "execution_count": 134,
   "id": "28ea7ead",
   "metadata": {},
   "outputs": [
    {
     "name": "stdout",
     "output_type": "stream",
     "text": [
      "1 Ahoj Python\n",
      "2 Ahoj Python\n",
      "3 Ahoj Python\n",
      "4 Ahoj Python\n",
      "5 Ahoj Python\n",
      "6 Ahoj Python\n",
      "7 Ahoj Python\n",
      "8 Ahoj Python\n",
      "9 Ahoj Python\n",
      "10 Ahoj Python\n",
      "Sme na konci...\n",
      "\n",
      "Chcem zit nonstop v roku  2023\n",
      "Chcem zit nonstop v roku  2024\n",
      "Chcem zit nonstop v roku  2025\n",
      "Chcem zit nonstop v roku  2026\n",
      "Chcem zit nonstop v roku  2027\n",
      "Chcem zit nonstop v roku  2028\n",
      "Chcem zit nonstop v roku  2029\n",
      "Chcem zit nonstop v roku  2030\n",
      "Koncime\n"
     ]
    }
   ],
   "source": [
    "i = 1\n",
    "while i <= 10:\n",
    "    print(i, \"Ahoj Python\")\n",
    "    # Zakladny zapis\n",
    "#     i = i + 1\n",
    "    # Skrateny (programatorsky) zapis\n",
    "    # Inkrementacia - zvysenie hodnoty o 1 i++\n",
    "    i += 1\n",
    "    \n",
    "    # Dekrementacia - znizenie hodnoty o 1 i--\n",
    "\n",
    "print(\"Sme na konci...\\n\")\n",
    "\n",
    "rok = 2022\n",
    "while True:  \n",
    "    if rok >= 2030:\n",
    "        print(\"Koncime\")\n",
    "        break\n",
    "        \n",
    "    rok += 1\n",
    "    print(\"Chcem zit nonstop v roku \", rok)\n",
    "    \n",
    "        \n",
    "    "
   ]
  },
  {
   "cell_type": "markdown",
   "id": "3a712cc6",
   "metadata": {},
   "source": [
    "## X. Continue"
   ]
  },
  {
   "cell_type": "code",
   "execution_count": 139,
   "id": "4a50880e",
   "metadata": {},
   "outputs": [
    {
     "name": "stdout",
     "output_type": "stream",
     "text": [
      "0\n",
      "2\n",
      "4\n",
      "6\n",
      "8\n",
      "10\n",
      "12\n",
      "14\n",
      "16\n",
      "18\n"
     ]
    }
   ],
   "source": [
    "for i in range(0,20):\n",
    "    if i % 2 == 1:\n",
    "        continue\n",
    "    print(i)"
   ]
  },
  {
   "cell_type": "markdown",
   "id": "a46b8b8b",
   "metadata": {},
   "source": [
    "## XI. Práca so súbormi"
   ]
  },
  {
   "cell_type": "code",
   "execution_count": 157,
   "id": "81a79d59",
   "metadata": {},
   "outputs": [
    {
     "name": "stdout",
     "output_type": "stream",
     "text": [
      "Som zapisal...\n"
     ]
    }
   ],
   "source": [
    "import datetime\n",
    "\n",
    "dnes = datetime.datetime.now()\n",
    "\n",
    "subor = open(\"logy.txt\", \"a\")\n",
    "sprava = str(dnes) + \" -- Dnes je pekny den\\n\"\n",
    "subor.write(sprava)\n",
    "\n",
    "print(\"Som zapisal...\")\n",
    "subor.close()"
   ]
  },
  {
   "cell_type": "code",
   "execution_count": 159,
   "id": "82db6cb2",
   "metadata": {},
   "outputs": [
    {
     "name": "stdout",
     "output_type": "stream",
     "text": [
      "Obsah suboru:\n",
      " 2022\n"
     ]
    }
   ],
   "source": [
    "subor = open(\"logy.txt\", \"r\")\n",
    "data = subor.read(4)\n",
    "\n",
    "print(\"Obsah suboru:\\n\", data)\n",
    "subor.close()\n"
   ]
  },
  {
   "cell_type": "code",
   "execution_count": 154,
   "id": "a9b4ce3f",
   "metadata": {},
   "outputs": [
    {
     "name": "stdout",
     "output_type": "stream",
     "text": [
      "2\n",
      "KarolEva\n",
      "1Eva\n"
     ]
    }
   ],
   "source": [
    "print(1 + 1)\n",
    "print(\"Karol\" + \"Eva\")\n",
    "print(str(1) + \"Eva\")"
   ]
  },
  {
   "cell_type": "markdown",
   "id": "01d1d32c",
   "metadata": {},
   "source": [
    "## XII. Slovníky (dict) a množiny (sets)"
   ]
  },
  {
   "cell_type": "code",
   "execution_count": 173,
   "id": "e85ede43",
   "metadata": {},
   "outputs": [
    {
     "name": "stdout",
     "output_type": "stream",
     "text": [
      "Obsah: {'Mama': 'Monika', 'Otec': 'Jozef', 'Brat': 'Michal', 'Teta': 'Anna'} typ: <class 'dict'>\n",
      "1. v slovnik: Monika\n",
      "Teta: Anna\n",
      "Kluc je: Mama ma hodnotu Monika\n",
      "Kluc je: Otec ma hodnotu Jozef\n",
      "Kluc je: Brat ma hodnotu Michal\n",
      "Kluc je: Teta ma hodnotu Anna\n",
      "Obsah: {'Ivan': 'programator', 'Monika': 'analytik', 'Maria': 'personalista', 'Tomas': 'programator', 'Peter': 'analytik', 'Milan': 'personalista'} typ: <class 'dict'>\n",
      "Obsah: {0: 'programator', 1: 'analytik', 2: 'personalista', 3: 'programator', 4: 'analytik', 5: 'personalista'} typ: <class 'dict'>\n",
      "Obsah: {'Mysky', 'Tlaciaren', 'Notebooky'} typ: <class 'set'>\n"
     ]
    }
   ],
   "source": [
    "# zoznam/list []\n",
    "# tica/tupple ()\n",
    "# slovnik/dict {}\n",
    "slovnik = {}\n",
    "slovnik = dict()\n",
    "\n",
    "# Par Kluc : hodnota (Key : Value), asociativne polia/zoznamy\n",
    "# Kluc = index (vlastny)\n",
    "# JSON\n",
    "rodina = {\"Mama\" : \"Monika\", \"Otec\" : \"Jozef\", \"Brat\" : \"Michal\", \"Teta\": \"Anna\"}\n",
    "print(\"Obsah:\", rodina, \"typ:\", type(rodina))\n",
    "print(\"1. v slovnik:\", rodina[\"Mama\"])\n",
    "print(\"Teta:\", rodina[\"Teta\"])\n",
    "\n",
    "for k in rodina:\n",
    "    print(\"Kluc je:\", k, \"ma hodnotu\", rodina[k])\n",
    "    \n",
    "zoznam_zamestnanci = [\"Ivan\", \"Monika\", \"Maria\", \"Tomas\", \"Peter\", \"Milan\", \"Ursula\"]\n",
    "pozicia = [\"programator\",\"analytik\",\"personalista\", \"programator\", \"analytik\", \"personalista\"]\n",
    "\n",
    "slovnik_zamestnanci_pozicie = dict(zip(zoznam_zamestnanci, pozicia))\n",
    "print(\"Obsah:\", slovnik_zamestnanci_pozicie, \"typ:\", type(slovnik_zamestnanci_pozicie))\n",
    "\n",
    "slovnik_pozicie_cislovane = dict(enumerate(pozicia))\n",
    "print(\"Obsah:\", slovnik_pozicie_cislovane, \"typ:\", type(slovnik_pozicie_cislovane))\n",
    "\n",
    "mnozina_produkty = {\"Notebooky\", \"Mysky\", \"Tlaciaren\"}\n",
    "print(\"Obsah:\", mnozina_produkty, \"typ:\", type(mnozina_produkty))\n"
   ]
  },
  {
   "cell_type": "markdown",
   "id": "2a8e64f4",
   "metadata": {},
   "source": [
    "## XIII. Vlastné funkcie/podprogram (definicie)"
   ]
  },
  {
   "cell_type": "code",
   "execution_count": 191,
   "id": "c7c66e0b",
   "metadata": {},
   "outputs": [
    {
     "name": "stdout",
     "output_type": "stream",
     "text": [
      "<class 'function'>\n",
      "Toto je dokumentacia/pokec k funkcii\n",
      "Ahoj Ing. Adam Sangala\n"
     ]
    }
   ],
   "source": [
    "def vypis_ahoj():\n",
    "    \"\"\"Toto je dokumentacia/pokec k funkcii\"\"\"\n",
    "    print(\"Ahoj\")  \n",
    "    \n",
    "def vypis_cele_meno(titul, meno, priezvisko):\n",
    "    cele_meno = titul.strip().capitalize() + \" \" + meno.strip().capitalize() + \" \" + priezvisko.strip().capitalize()\n",
    "    return (\"Ahoj \" + cele_meno)\n",
    "\n",
    "# Volanie funkcie/definicie\n",
    "print(type(vypis_ahoj))\n",
    "print(vypis_ahoj.__doc__)\n",
    "\n",
    "print(vypis_cele_meno(\"ING.   \", \"  ADAM  \", \"  sangala   \"))\n"
   ]
  },
  {
   "cell_type": "code",
   "execution_count": null,
   "id": "cddf1270",
   "metadata": {},
   "outputs": [],
   "source": []
  }
 ],
 "metadata": {
  "kernelspec": {
   "display_name": "Python 3 (ipykernel)",
   "language": "python",
   "name": "python3"
  },
  "language_info": {
   "codemirror_mode": {
    "name": "ipython",
    "version": 3
   },
   "file_extension": ".py",
   "mimetype": "text/x-python",
   "name": "python",
   "nbconvert_exporter": "python",
   "pygments_lexer": "ipython3",
   "version": "3.9.7"
  }
 },
 "nbformat": 4,
 "nbformat_minor": 5
}