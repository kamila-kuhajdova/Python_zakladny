{
 "cells":[
  {
   "cell_type":"markdown",
   "source":[
    "# Sheet"
   ],
   "attachments":{
    
   },
   "metadata":{
    "datalore":{
     "node_id":"Sheet",
     "type":"MD",
     "hide_input_from_viewers":false,
     "hide_output_from_viewers":false,
     "sheet_delimiter":true
    }
   }
  },
  {
   "cell_type":"markdown",
   "source":[
    "# Kurz Python Základy 🐍 "
   ],
   "attachments":{
    
   },
   "metadata":{
    "datalore":{
     "node_id":"v5rhv4NK5w3eS0qmrZiGKf",
     "type":"MD",
     "hide_input_from_viewers":false,
     "hide_output_from_viewers":false,
     "report_properties":{
      
     }
    }
   }
  },
  {
   "cell_type":"markdown",
   "source":[
    "## 🎨🧶🐍 Tlač (výpis), komentáre, kódovanie, dokumentácie\n",
    "alt + shift, win + medzera"
   ],
   "attachments":{
    
   },
   "metadata":{
    "datalore":{
     "node_id":"YXGgOQrfCvBzNWu98Oi528",
     "type":"MD",
     "hide_input_from_viewers":false,
     "hide_output_from_viewers":false,
     "report_properties":{
      
     }
    }
   }
  },
  {
   "cell_type":"code",
   "source":[
    "# -*- coding: utf-8 -*-\n",
    "# Toto je jednoriadkovy komentar\n",
    "# print(\"Ahoj svet\")\n",
    "\"\"\"\n",
    "    Toto je docstring\n",
    "    dokumentacny retazec...\n",
    "    toto je na dokumentaciu\n",
    "\"\"\"\n",
    "print(\"Dnes je pekný deň 🎅\")\n",
    "\n",
    "print(__doc__)\n",
    "\n"
   ],
   "execution_count":1,
   "outputs":[
    
   ],
   "metadata":{
    "datalore":{
     "node_id":"jxYFtJHAv1HliRGQ9ejiIt",
     "type":"CODE",
     "hide_input_from_viewers":true,
     "hide_output_from_viewers":true
    }
   }
  },
  {
   "cell_type":"markdown",
   "source":[
    "## Dátové typy, premenné"
   ],
   "attachments":{
    
   },
   "metadata":{
    "datalore":{
     "node_id":"JbxlEVzd6GsOCWRSnDWPP4",
     "type":"MD",
     "hide_input_from_viewers":false,
     "hide_output_from_viewers":false,
     "report_properties":{
      
     }
    }
   }
  },
  {
   "cell_type":"code",
   "source":[
    "# str - string - retazec\n",
    "meno_klient = \"Adam\"\n",
    "sidlo_firma = \"Bratislava Nove Mesto\"\n",
    "print(meno_klient)\n",
    "print(type(meno_klient))\n",
    "\n",
    "# int - integer - cele cisla, 0, 5, -5, 39000000 - Z\n",
    "pocet_kurzov = 6\n",
    "vek_zamestnanca = 35\n",
    "print(pocet_kurzov)\n",
    "print(type(pocet_kurzov))\n",
    "\n",
    "# float - cislo s plavajucou desat. bodkou - realne cislo - R\n",
    "cena_kurz_python = 129.99\n",
    "print(cena_kurz_python)\n",
    "print(type(cena_kurz_python))\n",
    "\n",
    "# bool\/boolean - True, False\n",
    "je_zamestnanec_PN = True\n",
    "print(je_zamestnanec_PN)   \n",
    "\n",
    "# None - Nic\n",
    "kosik = None\n",
    "print(kosik)"
   ],
   "execution_count":12,
   "outputs":[
    {
     "name":"stdout",
     "text":[
      "Adam\n",
      "<class 'str'>\n",
      "6\n",
      "<class 'int'>\n",
      "129.99\n",
      "<class 'float'>\n",
      "True\n",
      "None\n"
     ],
     "output_type":"stream"
    }
   ],
   "metadata":{
    "datalore":{
     "node_id":"Ssh2vvgrBfJxWhCrYI3APn",
     "type":"CODE",
     "hide_input_from_viewers":false,
     "hide_output_from_viewers":false,
     "report_properties":{
      
     }
    }
   }
  },
  {
   "cell_type":"markdown",
   "source":[
    "## Zabudovane (built-in) funkcie, operacie"
   ],
   "attachments":{
    
   },
   "metadata":{
    "datalore":{
     "node_id":"ftzsGh45wGI5LgREMG6bfg",
     "type":"MD",
     "hide_input_from_viewers":false,
     "hide_output_from_viewers":false,
     "report_properties":{
      
     }
    }
   }
  },
  {
   "cell_type":"code",
   "source":[
    "# + - * \/\n",
    "print(5 + 9)\n",
    "print(5 - 9)\n",
    "print(5 * 9)\n",
    "\n",
    "# Mocnica ^6\n",
    "print(2**8)\n",
    "print(2**6)\n",
    "\n",
    "# Realne delenie\n",
    "print(5\/2)\n",
    "print(5.0\/2)\n",
    "print(5\/2.0)\n",
    "\n",
    "# Celociselne delenie\n",
    "print(5\/\/2)\n",
    "print(23\/\/2)\n",
    "\n",
    "# Delenie so zvyskom, modulo\n",
    "print(5%2)\n",
    "\n",
    "# and - logicky sucin, True Log. 1, False Log. 0\n",
    "# \\n - new line novy riadok odriadkovanie\n",
    "print(\"\\nand - logicky sucin: \")\n",
    "print(True and True)\n",
    "print(True and False)\n",
    "\n",
    "\n",
    "# or - logicky sucet, True Log. 1, False Log. 0\n",
    "# alt + 92\n",
    "print(\"\\nor - logicky sucet: \")\n",
    "print(True or True)\n",
    "print(True or False)\n",
    "\n",
    "# not - logicka negacia, True Log. 1, False Log. 0\n",
    "print(\"\\nnot - logicka negacia: \")\n",
    "print(not True)\n",
    "print(not False)"
   ],
   "execution_count":30,
   "outputs":[
    {
     "name":"stdout",
     "text":[
      "14\n",
      "-4\n",
      "45\n",
      "256\n",
      "64\n",
      "2.5\n",
      "2.5\n",
      "2.5\n",
      "2\n",
      "11\n",
      "1\n",
      "\n",
      "and - logicky sucin: \n",
      "True\n",
      "False\n",
      "\n",
      "or - logicky sucet: \n",
      "True\n",
      "True\n",
      "\n",
      "not - logicka negacia: \n",
      "False\n",
      "True\n"
     ],
     "output_type":"stream"
    }
   ],
   "metadata":{
    "datalore":{
     "node_id":"nayUobzOd7x13muIA7kmOr",
     "type":"CODE",
     "hide_input_from_viewers":false,
     "hide_output_from_viewers":false,
     "report_properties":{
      
     }
    }
   }
  },
  {
   "cell_type":"markdown",
   "source":[
    "## Zabudované (built-in) funkcie"
   ],
   "attachments":{
    
   },
   "metadata":{
    "datalore":{
     "node_id":"pJeuPobBpQKmNAFnIgapoB",
     "type":"MD",
     "hide_input_from_viewers":true,
     "hide_output_from_viewers":true
    }
   }
  },
  {
   "cell_type":"code",
   "source":[
    "# [] list - zoznam - heterogenne - cokolvek moze byt v zozname\n",
    "print(max([-100, 3, -6, 98, 42, 3.79, -65000, 0, 8]))\n",
    "print(min([-100, 3, -6, 98, 42, 3.79, -65000, 0, 8]))\n",
    "print(sum([-100, 3, -6, 98, 42, 3.79, -65000, 0, 8]))\n",
    "print(len([-100, 3, -6, 98, 42, 3.79, -65000, 0, 8]))\n",
    "\n",
    "zoznam_sucet = sum([-100, 3, -6, 98, 42, 3.79, -65000, 0, 8])\n",
    "zoznam_pocet = len([-100, 3, -6, 98, 42, 3.79, -65000, 0, 8])\n",
    "\n",
    "zoznam_priemer = zoznam_sucet \/ zoznam_pocet\n",
    "print(f\"Priemerna hodnota je: {round(zoznam_priemer)}\")"
   ],
   "execution_count":58,
   "outputs":[
    {
     "name":"stdout",
     "text":[
      "98\n",
      "-65000\n",
      "-64951.21\n",
      "9\n",
      "Priemerna hodnota je: -7217\n"
     ],
     "output_type":"stream"
    }
   ],
   "metadata":{
    "datalore":{
     "node_id":"bvpthpfu47TJbW45qOvrJC",
     "type":"CODE",
     "hide_input_from_viewers":true,
     "hide_output_from_viewers":true
    }
   }
  },
  {
   "cell_type":"markdown",
   "source":[
    "## Pretypovanie (Explicitne)"
   ],
   "attachments":{
    
   },
   "metadata":{
    "datalore":{
     "node_id":"jvwcmTzZMbJewSaYSnYsiZ",
     "type":"MD",
     "hide_input_from_viewers":false,
     "hide_output_from_viewers":false,
     "report_properties":{
      
     }
    }
   }
  },
  {
   "cell_type":"code",
   "source":[
    "print(8+7)\n",
    "# Implicitne pretypovanie\n",
    "print(8+7.5)\n",
    "print(\"Adam\" + \"Monika\")\n",
    "\n",
    "print(\"Adam\" + \" \" + \"Monika\")\n",
    "print(\"Adam\" + \" + \" + \"Monika\" + \" \" + \"= Velka laska\")\n",
    "# Explicitne pretypovanie\n",
    "print(\"Adam ma mzdu: \" + str(1500) + \" Eur\")\n",
    "print(\"Adam ma mzdu:\", str(1500) + \" Eur\")\n",
    "\n",
    "# F-String (Formatted string)\n",
    "vek = 35\n",
    "print(f\"Adam ma mzdu: {1500} Eur ma {vek} rokov\")\n",
    "\n",
    "\n",
    "print(int(56.5))\n",
    "print(bool(56.5))"
   ],
   "execution_count":55,
   "outputs":[
    {
     "name":"stdout",
     "text":[
      "15\n",
      "15.5\n",
      "AdamMonika\n",
      "Adam Monika\n",
      "Adam + Monika = Velka laska\n",
      "Adam ma mzdu: 1500 Eur\n",
      "Adam ma mzdu: 1500 Eur\n",
      "Adam ma mzdu: 1500 Eur ma 35 rokov\n",
      "56\n",
      "True\n"
     ],
     "output_type":"stream"
    }
   ],
   "metadata":{
    "datalore":{
     "node_id":"P54Kif3MaKZUG4yyX8MZwI",
     "type":"CODE",
     "hide_input_from_viewers":false,
     "hide_output_from_viewers":false,
     "report_properties":{
      
     }
    }
   }
  },
  {
   "cell_type":"markdown",
   "source":[
    "## Zoznamy a Výber Dát (Slicing)"
   ],
   "attachments":{
    
   },
   "metadata":{
    "datalore":{
     "node_id":"haJlWirtWalQSKXJnQeART",
     "type":"MD",
     "hide_input_from_viewers":false,
     "hide_output_from_viewers":false,
     "report_properties":{
      
     }
    }
   }
  },
  {
   "cell_type":"code",
   "source":[
    "zoznam_pouzivatelov = [\"xreiterm\", \"xhamrank\", \"xpeknam\", \"xdlhai\"]\n",
    "zoznam_kurzov = [\"Python Zaklady\", \"Python OOP\", \"Python SVD\", \"DB\", \"UNS\"]\n",
    "udaje_klient = [\"Adam\", \"Sangala\", True, 36, 1899.36]\n",
    "print(type(udaje_klient))\n",
    "\n",
    "zoznam_znakov = list(\"Bratislava\")\n",
    "print(zoznam_znakov)\n",
    "\n",
    "zoznam_miezd = [850, 960, 1489.36, 2581.69, 5821]\n",
    "print(f\"Zoznam vsetkych miezd: {zoznam_miezd}\")\n",
    "print(f\"Pocet vsetkych miezd: {len(zoznam_miezd)}\")\n",
    "print(f\"1. mzda\/0. index: {zoznam_miezd[0]}\")\n",
    "print(f\"2. mzda\/1. index: {zoznam_miezd[1]}\")\n",
    "\n",
    "print(f\"Posledná mzda\/-1. index: {zoznam_miezd[-1]}\")\n",
    "print(f\"Predposledná mzda\/-1. index: {zoznam_miezd[-2]}\")\n",
    "\n",
    "print(f\"Posledná mzda\/-1. index: {zoznam_miezd[len(zoznam_miezd) - 1]}\")\n",
    "print(f\"Predposledná mzda\/-1. index: {zoznam_miezd[len(zoznam_miezd) - 2]}\")\n",
    "\n",
    "print(f\"0-2: {zoznam_miezd[0:2]}\")\n",
    "print(f\"0-3: {zoznam_miezd[0:3]}\")\n",
    "\n",
    "print(f\"1-4: {zoznam_miezd[1:4]}\")\n",
    "print(f\"-4-1: {zoznam_miezd[-4:-1]}\")\n",
    "\n",
    "print(f\"::-1: {zoznam_miezd[::-1]}\")\n"
   ],
   "execution_count":104,
   "outputs":[
    {
     "name":"stdout",
     "text":[
      "<class 'list'>\n",
      "['B', 'r', 'a', 't', 'i', 's', 'l', 'a', 'v', 'a']\n",
      "Zoznam vsetkych miezd: [850, 960, 1489.36, 2581.69, 5821]\n",
      "Pocet vsetkych miezd: 5\n",
      "1. mzda\/0. index: 850\n",
      "2. mzda\/1. index: 960\n",
      "Posledná mzda\/-1. index: 5821\n",
      "Predposledná mzda\/-1. index: 2581.69\n",
      "Posledná mzda\/-1. index: 5821\n",
      "Predposledná mzda\/-1. index: 2581.69\n",
      "0-2: [850, 960]\n",
      "0-3: [850, 960, 1489.36]\n",
      "1-4: [960, 1489.36, 2581.69]\n",
      "-4-1: [960, 1489.36, 2581.69]\n",
      "::-1: [5821, 2581.69, 1489.36, 960, 850]\n"
     ],
     "output_type":"stream"
    }
   ],
   "metadata":{
    "datalore":{
     "node_id":"igZV4gZG7H81XJB9M8ouUF",
     "type":"CODE",
     "hide_input_from_viewers":false,
     "hide_output_from_viewers":false,
     "report_properties":{
      
     }
    }
   }
  },
  {
   "cell_type":"markdown",
   "source":[
    "## Zabudované Metódy pre Zoznamy\/Lists"
   ],
   "attachments":{
    
   },
   "metadata":{
    "datalore":{
     "node_id":"BbOoyApm7qPRcqMJm1vhU3",
     "type":"MD",
     "hide_input_from_viewers":false,
     "hide_output_from_viewers":false,
     "report_properties":{
      
     }
    }
   }
  },
  {
   "cell_type":"code",
   "source":[
    
   ],
   "execution_count":null,
   "outputs":[
    
   ],
   "metadata":{
    "datalore":{
     "node_id":"z8jeRwjThOU0BPslUVJABy",
     "type":"CODE",
     "hide_input_from_viewers":false,
     "hide_output_from_viewers":false,
     "report_properties":{
      
     }
    }
   }
  },
  {
   "cell_type":"code",
   "source":[
    
   ],
   "execution_count":null,
   "outputs":[
    
   ],
   "metadata":{
    "datalore":{
     "node_id":"FcioSEGFblg6dyACJKn3Wr",
     "type":"CODE",
     "hide_input_from_viewers":false,
     "hide_output_from_viewers":false,
     "report_properties":{
      
     }
    }
   }
  },
  {
   "cell_type":"code",
   "source":[
    
   ],
   "execution_count":null,
   "outputs":[
    
   ],
   "metadata":{
    "datalore":{
     "node_id":"gRG6SnBbrZum6H5ITccdc8",
     "type":"CODE",
     "hide_input_from_viewers":false,
     "hide_output_from_viewers":false,
     "report_properties":{
      
     }
    }
   }
  },
  {
   "cell_type":"markdown",
   "source":[
    "## Tice (Tuple)"
   ],
   "attachments":{
    
   },
   "metadata":{
    "datalore":{
     "node_id":"Wo7sulgP1bv8V5qLEYe9L1",
     "type":"MD",
     "hide_input_from_viewers":false,
     "hide_output_from_viewers":false,
     "report_properties":{
      
     }
    }
   }
  },
  {
   "cell_type":"code",
   "source":[
    
   ],
   "execution_count":null,
   "outputs":[
    
   ],
   "metadata":{
    "datalore":{
     "node_id":"EmmDIVDWWq22wzSosRCDVY",
     "type":"CODE",
     "hide_input_from_viewers":false,
     "hide_output_from_viewers":false,
     "report_properties":{
      
     }
    }
   }
  },
  {
   "cell_type":"code",
   "source":[
    
   ],
   "execution_count":null,
   "outputs":[
    
   ],
   "metadata":{
    "datalore":{
     "node_id":"p7Ux68iTdceKfWdDFxqOxV",
     "type":"CODE",
     "hide_input_from_viewers":false,
     "hide_output_from_viewers":false,
     "report_properties":{
      
     }
    }
   }
  },
  {
   "cell_type":"markdown",
   "source":[
    "## Modul math (Matematický modul\/knižnica)"
   ],
   "attachments":{
    
   },
   "metadata":{
    "datalore":{
     "node_id":"pXTWZ0nUBwXU6u0stymdVi",
     "type":"MD",
     "hide_input_from_viewers":true,
     "hide_output_from_viewers":true
    }
   }
  },
  {
   "cell_type":"code",
   "source":[
    "import math\n",
    "print(math)\n",
    "# print(math.__doc__)\n",
    "#  print(dir(math))\n",
    "#  print(help(math))\n",
    "\n",
    "# ceil\n",
    "print(\"\\nceil - zaokruhlenie smerom nahor\")\n",
    "print(math.ceil(9.5))\n",
    "print(math.ceil(9.0001))\n",
    "print(math.ceil(9.000))\n",
    "\n",
    "# floor\n",
    "print(\"\\nfloor - zaokruhlenie smerom nadol\")\n",
    "print(math.floor(9.5))\n",
    "print(math.floor(9.0001))\n",
    "print(math.floor(9.000))\n",
    "\n",
    "# trunc\n",
    "print(\"\\ntrunc - orezanie hodnoty\")\n",
    "print(math.trunc(9.5))\n",
    "print(math.trunc(9.0001))\n",
    "print(math.trunc(9.000))\n",
    "\n",
    "print(math.sqrt(81))\n",
    "print(math.pow(2, 8))\n",
    "print(math.pi)\n",
    "print(math.e)\n"
   ],
   "execution_count":78,
   "outputs":[
    {
     "name":"stdout",
     "text":[
      "<module 'math' from '\/opt\/python\/lib\/python3.8\/lib-dynload\/math.cpython-38-x86_64-linux-gnu.so'>\n",
      "\n",
      "ceil - zaokruhlenie smerom nahor\n",
      "10\n",
      "10\n",
      "9\n",
      "\n",
      "floor - zaokruhlenie smerom nadol\n",
      "9\n",
      "9\n",
      "9\n",
      "\n",
      "trunc - orezanie hodnoty\n",
      "9\n",
      "9\n",
      "9\n",
      "9.0\n",
      "256.0\n",
      "3.141592653589793\n",
      "2.718281828459045\n"
     ],
     "output_type":"stream"
    }
   ],
   "metadata":{
    "datalore":{
     "node_id":"JOiCebbsa9AdHRJXjaW94W",
     "type":"CODE",
     "hide_input_from_viewers":true,
     "hide_output_from_viewers":true
    }
   }
  },
  {
   "cell_type":"markdown",
   "source":[
    "# Sheet 2"
   ],
   "attachments":{
    
   },
   "metadata":{
    "datalore":{
     "node_id":"Sheet 2",
     "type":"MD",
     "hide_input_from_viewers":false,
     "hide_output_from_viewers":false,
     "sheet_delimiter":true
    }
   }
  },
  {
   "cell_type":"code",
   "source":[
    
   ],
   "execution_count":null,
   "outputs":[
    
   ],
   "metadata":{
    "datalore":{
     "node_id":"u2QLvVNXgHLnxq3mEmFzHL",
     "type":"CODE",
     "hide_input_from_viewers":true,
     "hide_output_from_viewers":true
    }
   }
  }
 ],
 "metadata":{
  "kernelspec":{
   "display_name":"Python",
   "language":"python",
   "name":"python"
  },
  "datalore":{
   "version":1,
   "computation_mode":"JUPYTER",
   "package_manager":"pip",
   "base_environment":"default",
   "packages":[
    
   ]
  }
 },
 "nbformat":4,
 "nbformat_minor":4
}