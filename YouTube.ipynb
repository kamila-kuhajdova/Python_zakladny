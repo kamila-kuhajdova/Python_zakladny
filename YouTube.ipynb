{
 "cells":[
  {
   "cell_type":"code",
   "source":[
    "!pip install pytube"
   ],
   "execution_count":1,
   "outputs":[
    {
     "name":"stdout",
     "text":[
      "Collecting pytube\r\n",
      "  Downloading pytube-12.1.2-py3-none-any.whl (57 kB)\r\n",
      "\u001b[?25l     \u001b[90m━━━━━━━━━━━━━━━━━━━━━━━━━━━━━━━━━━━━━━━━\u001b[0m \u001b[32m0.0\/57.0 kB\u001b[0m \u001b[31m?\u001b[0m eta \u001b[36m-:--:--\u001b[0m\r\u001b[2K     \u001b[90m━━━━━━━━━━━━━━━━━━━━━━━━━━━━━━━━━━━━━━━━\u001b[0m \u001b[32m57.0\/57.0 kB\u001b[0m \u001b[31m2.5 MB\/s\u001b[0m eta \u001b[36m0:00:00\u001b[0m\r\n",
      "\u001b[?25hInstalling collected packages: pytube\r\n",
      "Successfully installed pytube-12.1.2\r\n"
     ],
     "output_type":"stream"
    }
   ],
   "metadata":{
    "datalore":{
     "node_id":"n9dQG6dO3SFOnY4DOacLtB",
     "type":"CODE",
     "hide_input_from_viewers":false,
     "hide_output_from_viewers":false
    }
   }
  },
  {
   "cell_type":"code",
   "source":[
    "!pip install django"
   ],
   "execution_count":2,
   "outputs":[
    {
     "name":"stdout",
     "text":[
      "Collecting django\r\n",
      "  Downloading Django-4.1.7-py3-none-any.whl (8.1 MB)\r\n",
      "\u001b[?25l     \u001b[90m━━━━━━━━━━━━━━━━━━━━━━━━━━━━━━━━━━━━━━━━\u001b[0m \u001b[32m0.0\/8.1 MB\u001b[0m \u001b[31m?\u001b[0m eta \u001b[36m-:--:--\u001b[0m\r\u001b[2K     \u001b[91m━━\u001b[0m\u001b[90m╺\u001b[0m\u001b[90m━━━━━━━━━━━━━━━━━━━━━━━━━━━━━━━━━━━━━\u001b[0m \u001b[32m0.4\/8.1 MB\u001b[0m \u001b[31m12.7 MB\/s\u001b[0m eta \u001b[36m0:00:01\u001b[0m\r\u001b[2K     \u001b[91m━━━━━\u001b[0m\u001b[90m╺\u001b[0m\u001b[90m━━━━━━━━━━━━━━━━━━━━━━━━━━━━━━━━━━\u001b[0m \u001b[32m1.0\/8.1 MB\u001b[0m \u001b[31m15.8 MB\/s\u001b[0m eta \u001b[36m0:00:01\u001b[0m\r\u001b[2K     \u001b[91m━━━━━\u001b[0m\u001b[90m╺\u001b[0m\u001b[90m━━━━━━━━━━━━━━━━━━━━━━━━━━━━━━━━━━\u001b[0m \u001b[32m1.0\/8.1 MB\u001b[0m \u001b[31m15.8 MB\/s\u001b[0m eta \u001b[36m0:00:01\u001b[0m\r\u001b[2K     \u001b[91m━━━━━\u001b[0m\u001b[90m╺\u001b[0m\u001b[90m━━━━━━━━━━━━━━━━━━━━━━━━━━━━━━━━━━\u001b[0m \u001b[32m1.0\/8.1 MB\u001b[0m \u001b[31m15.8 MB\/s\u001b[0m eta \u001b[36m0:00:01\u001b[0m\r\u001b[2K     \u001b[91m━━━━━\u001b[0m\u001b[90m╺\u001b[0m\u001b[90m━━━━━━━━━━━━━━━━━━━━━━━━━━━━━━━━━━\u001b[0m \u001b[32m1.0\/8.1 MB\u001b[0m \u001b[31m15.8 MB\/s\u001b[0m eta \u001b[36m0:00:01\u001b[0m\r\u001b[2K     \u001b[91m━━━━━━━━\u001b[0m\u001b[90m╺\u001b[0m\u001b[90m━━━━━━━━━━━━━━━━━━━━━━━━━━━━━━━\u001b[0m \u001b[32m1.6\/8.1 MB\u001b[0m \u001b[31m7.6 MB\/s\u001b[0m eta \u001b[36m0:00:01\u001b[0m\r\u001b[2K     \u001b[91m━━━━━━━━━\u001b[0m\u001b[91m╸\u001b[0m\u001b[90m━━━━━━━━━━━━━━━━━━━━━━━━━━━━━━\u001b[0m \u001b[32m2.0\/8.1 MB\u001b[0m \u001b[31m8.3 MB\/s\u001b[0m eta \u001b[36m0:00:01\u001b[0m\r\u001b[2K     \u001b[91m━━━━━━━━━━━━━\u001b[0m\u001b[91m╸\u001b[0m\u001b[90m━━━━━━━━━━━━━━━━━━━━━━━━━━\u001b[0m \u001b[32m2.8\/8.1 MB\u001b[0m \u001b[31m9.7 MB\/s\u001b[0m eta \u001b[36m0:00:01\u001b[0m\r\u001b[2K     \u001b[91m━━━━━━━━━━━━━━━━━━\u001b[0m\u001b[90m╺\u001b[0m\u001b[90m━━━━━━━━━━━━━━━━━━━━━\u001b[0m \u001b[32m3.7\/8.1 MB\u001b[0m \u001b[31m10.6 MB\/s\u001b[0m eta \u001b[36m0:00:01\u001b[0m\r\u001b[2K     \u001b[91m━━━━━━━━━━━━━━━━━━━━━━\u001b[0m\u001b[90m╺\u001b[0m\u001b[90m━━━━━━━━━━━━━━━━━\u001b[0m \u001b[32m4.6\/8.1 MB\u001b[0m \u001b[31m11.4 MB\/s\u001b[0m eta \u001b[36m0:00:01\u001b[0m\r\u001b[2K     \u001b[91m━━━━━━━━━━━━━━━━━━━━━━━━\u001b[0m\u001b[90m╺\u001b[0m\u001b[90m━━━━━━━━━━━━━━━\u001b[0m \u001b[32m4.9\/8.1 MB\u001b[0m \u001b[31m11.6 MB\/s\u001b[0m eta \u001b[36m0:00:01\u001b[0m\r\u001b[2K     \u001b[91m━━━━━━━━━━━━━━━━━━━━━━━━━━━\u001b[0m\u001b[90m╺\u001b[0m\u001b[90m━━━━━━━━━━━━\u001b[0m \u001b[32m5.5\/8.1 MB\u001b[0m \u001b[31m12.0 MB\/s\u001b[0m eta \u001b[36m0:00:01\u001b[0m\r\u001b[2K     \u001b[91m━━━━━━━━━━━━━━━━━━━━━━━━━━━━━━\u001b[0m\u001b[91m╸\u001b[0m\u001b[90m━━━━━━━━━\u001b[0m \u001b[32m6.2\/8.1 MB\u001b[0m \u001b[31m12.1 MB\/s\u001b[0m eta \u001b[36m0:00:01\u001b[0m\r\u001b[2K     \u001b[91m━━━━━━━━━━━━━━━━━━━━━━━━━━━━━━━━━\u001b[0m\u001b[91m╸\u001b[0m\u001b[90m━━━━━━\u001b[0m \u001b[32m6.8\/8.1 MB\u001b[0m \u001b[31m12.4 MB\/s\u001b[0m eta \u001b[36m0:00:01\u001b[0m\r\u001b[2K     \u001b[91m━━━━━━━━━━━━━━━━━━━━━━━━━━━━━━━━━━━━━━\u001b[0m\u001b[90m╺\u001b[0m\u001b[90m━\u001b[0m \u001b[32m7.8\/8.1 MB\u001b[0m \u001b[31m13.0 MB\/s\u001b[0m eta \u001b[36m0:00:01\u001b[0m\r\u001b[2K     \u001b[91m━━━━━━━━━━━━━━━━━━━━━━━━━━━━━━━━━━━━━━━\u001b[0m\u001b[91m╸\u001b[0m \u001b[32m8.1\/8.1 MB\u001b[0m \u001b[31m13.1 MB\/s\u001b[0m eta \u001b[36m0:00:01\u001b[0m\r\u001b[2K     \u001b[91m━━━━━━━━━━━━━━━━━━━━━━━━━━━━━━━━━━━━━━━\u001b[0m\u001b[91m╸\u001b[0m \u001b[32m8.1\/8.1 MB\u001b[0m \u001b[31m13.1 MB\/s\u001b[0m eta \u001b[36m0:00:01\u001b[0m\r\u001b[2K     \u001b[90m━━━━━━━━━━━━━━━━━━━━━━━━━━━━━━━━━━━━━━━━\u001b[0m \u001b[32m8.1\/8.1 MB\u001b[0m \u001b[31m10.8 MB\/s\u001b[0m eta \u001b[36m0:00:00\u001b[0m\r\n",
      "\u001b[?25hCollecting sqlparse>=0.2.2\r\n",
      "  Downloading sqlparse-0.4.3-py3-none-any.whl (42 kB)\r\n",
      "\u001b[?25l     \u001b[90m━━━━━━━━━━━━━━━━━━━━━━━━━━━━━━━━━━━━━━━━\u001b[0m \u001b[32m0.0\/42.8 kB\u001b[0m \u001b[31m?\u001b[0m eta \u001b[36m-:--:--\u001b[0m\r\u001b[2K     \u001b[90m━━━━━━━━━━━━━━━━━━━━━━━━━━━━━━━━━━━━━━━━\u001b[0m \u001b[32m42.8\/42.8 kB\u001b[0m \u001b[31m2.8 MB\/s\u001b[0m eta \u001b[36m0:00:00\u001b[0m\r\n",
      "\u001b[?25hCollecting backports.zoneinfo\r\n",
      "  Downloading backports.zoneinfo-0.2.1-cp38-cp38-manylinux1_x86_64.whl (74 kB)\r\n",
      "\u001b[?25l     \u001b[90m━━━━━━━━━━━━━━━━━━━━━━━━━━━━━━━━━━━━━━━━\u001b[0m \u001b[32m0.0\/74.0 kB\u001b[0m \u001b[31m?\u001b[0m eta \u001b[36m-:--:--\u001b[0m\r\u001b[2K     \u001b[90m━━━━━━━━━━━━━━━━━━━━━━━━━━━━━━━━━━━━━━━━\u001b[0m \u001b[32m74.0\/74.0 kB\u001b[0m \u001b[31m2.6 MB\/s\u001b[0m eta \u001b[36m0:00:00\u001b[0m\r\n",
      "\u001b[?25hCollecting asgiref<4,>=3.5.2\r\n",
      "  Downloading asgiref-3.6.0-py3-none-any.whl (23 kB)\r\n",
      "Installing collected packages: sqlparse, backports.zoneinfo, asgiref, django\r\n",
      "Successfully installed asgiref-3.6.0 backports.zoneinfo-0.2.1 django-4.1.7 sqlparse-0.4.3\r\n"
     ],
     "output_type":"stream"
    }
   ],
   "metadata":{
    "datalore":{
     "node_id":"2EmPQwszYwx5VUa5zexXmE",
     "type":"CODE",
     "hide_input_from_viewers":false,
     "hide_output_from_viewers":false
    }
   }
  },
  {
   "cell_type":"code",
   "source":[
    "!pip list"
   ],
   "execution_count":3,
   "outputs":[
    {
     "name":"stdout",
     "text":[
      "Package                       Version\r\n",
      "----------------------------- ------------\r\n",
      "absl-py                       1.4.0\r\n",
      "aiohttp                       3.8.1\r\n",
      "aiosignal                     1.3.1\r\n",
      "alabaster                     0.7.13\r\n",
      "anyio                         3.6.2\r\n",
      "argon2-cffi                   21.3.0\r\n",
      "argon2-cffi-bindings          21.2.0\r\n",
      "asgiref                       3.6.0\r\n",
      "astunparse                    1.6.3\r\n",
      "async-timeout                 4.0.2\r\n",
      "attrs                         22.2.0\r\n",
      "Babel                         2.11.0\r\n",
      "backcall                      0.2.0\r\n",
      "backports.zoneinfo            0.2.1\r\n",
      "beautifulsoup4                4.11.2\r\n",
      "bleach                        6.0.0\r\n",
      "blis                          0.7.9\r\n",
      "bokeh                         2.3.0\r\n",
      "boto3                         1.20.25\r\n",
      "botocore                      1.23.54\r\n",
      "cachetools                    5.3.0\r\n",
      "catalogue                     2.0.8\r\n",
      "certifi                       2022.12.7\r\n",
      "cffi                          1.15.1\r\n",
      "charset-normalizer            2.0.12\r\n",
      "click                         7.1.2\r\n",
      "click-plugins                 1.1.1\r\n",
      "cligj                         0.7.2\r\n",
      "confection                    0.0.4\r\n",
      "cycler                        0.11.0\r\n",
      "cymem                         2.0.7\r\n",
      "decorator                     5.1.1\r\n",
      "defusedxml                    0.7.1\r\n",
      "descartes                     1.1.0\r\n",
      "Django                        4.1.7\r\n",
      "docutils                      0.19\r\n",
      "fastai                        2.7.11\r\n",
      "fastcore                      1.5.28\r\n",
      "fastdownload                  0.0.7\r\n",
      "fastprogress                  1.0.3\r\n",
      "filelock                      3.9.0\r\n",
      "Fiona                         1.8.18\r\n",
      "flatbuffers                   1.12\r\n",
      "fonttools                     4.38.0\r\n",
      "frozenlist                    1.3.3\r\n",
      "gast                          0.4.0\r\n",
      "gensim                        4.1.2\r\n",
      "geopandas                     0.10.2\r\n",
      "google-auth                   2.16.1\r\n",
      "google-auth-oauthlib          0.4.6\r\n",
      "google-pasta                  0.2.0\r\n",
      "greenlet                      2.0.2\r\n",
      "grpcio                        1.51.3\r\n",
      "h5py                          3.8.0\r\n",
      "huggingface-hub               0.12.1\r\n",
      "idna                          3.4\r\n",
      "imageio                       2.25.1\r\n",
      "imagesize                     1.4.1\r\n",
      "importlib-metadata            6.0.0\r\n",
      "importlib-resources           5.12.0\r\n",
      "ipykernel                     5.5.3\r\n",
      "ipython                       7.31.1\r\n",
      "ipython-genutils              0.2.0\r\n",
      "ipywidgets                    7.6.5\r\n",
      "jedi                          0.17.2\r\n",
      "Jinja2                        3.1.2\r\n",
      "jmespath                      0.10.0\r\n",
      "joblib                        1.2.0\r\n",
      "jsonschema                    4.17.3\r\n",
      "jupyter-client                6.1.12\r\n",
      "jupyter_core                  5.2.0\r\n",
      "jupyter-server                1.13.5\r\n",
      "jupyterlab-pygments           0.2.2\r\n",
      "jupyterlab-widgets            3.0.5\r\n",
      "keras                         2.9.0\r\n",
      "Keras-Preprocessing           1.1.2\r\n",
      "kiwisolver                    1.4.4\r\n",
      "kotlin-jupyter-kernel         0.11.0.208\r\n",
      "langcodes                     3.3.0\r\n",
      "lets-plot                     3.0.0\r\n",
      "libclang                      15.0.6.1\r\n",
      "lxml                          4.9.1\r\n",
      "Markdown                      3.4.1\r\n",
      "MarkupSafe                    2.1.2\r\n",
      "matplotlib                    3.5.1\r\n",
      "matplotlib-inline             0.1.6\r\n",
      "mistune                       2.0.5\r\n",
      "mpmath                        1.2.1\r\n",
      "multidict                     6.0.4\r\n",
      "munch                         2.5.0\r\n",
      "murmurhash                    1.0.9\r\n",
      "nbclassic                     0.5.2\r\n",
      "nbclient                      0.7.2\r\n",
      "nbconvert                     7.2.9\r\n",
      "nbformat                      5.1.3\r\n",
      "nest-asyncio                  1.5.6\r\n",
      "networkx                      3.0\r\n",
      "notebook                      6.5.2\r\n",
      "notebook_shim                 0.2.2\r\n",
      "numpy                         1.23.5\r\n",
      "numpydoc                      1.1.0\r\n",
      "oauthlib                      3.2.2\r\n",
      "opencv-python-headless        4.5.4.60\r\n",
      "opt-einsum                    3.3.0\r\n",
      "packaging                     23.0\r\n",
      "palettable                    3.3.0\r\n",
      "pandas                        1.3.5\r\n",
      "pandas-datareader             0.10.0\r\n",
      "pandocfilters                 1.5.0\r\n",
      "parso                         0.7.1\r\n",
      "pathy                         0.10.1\r\n",
      "patsy                         0.5.3\r\n",
      "pexpect                       4.8.0\r\n",
      "pickleshare                   0.7.5\r\n",
      "Pillow                        9.4.0\r\n",
      "pip                           23.0.1\r\n",
      "pkgutil_resolve_name          1.3.10\r\n",
      "platformdirs                  3.0.0\r\n",
      "plotly                        5.5.0\r\n",
      "preshed                       3.0.8\r\n",
      "prometheus-client             0.16.0\r\n",
      "prompt-toolkit                3.0.37\r\n",
      "protobuf                      3.19.6\r\n",
      "psycopg2-binary               2.9.2\r\n",
      "ptyprocess                    0.7.0\r\n",
      "py4j                          0.10.9.5\r\n",
      "pyasn1                        0.4.8\r\n",
      "pyasn1-modules                0.2.8\r\n",
      "pycparser                     2.21\r\n",
      "pydantic                      1.10.5\r\n",
      "Pygments                      2.14.0\r\n",
      "PyMySQL                       1.0.2\r\n",
      "pyparsing                     3.0.9\r\n",
      "pypng                         0.20220715.0\r\n",
      "pyproj                        3.3.0\r\n",
      "pyrsistent                    0.19.3\r\n",
      "pyspark                       3.3.2\r\n",
      "python-dateutil               2.8.2\r\n",
      "pytube                        12.1.2\r\n",
      "pytz                          2022.7.1\r\n",
      "PyWavelets                    1.4.1\r\n",
      "PyYAML                        6.0\r\n",
      "pyzmq                         25.0.0\r\n",
      "regex                         2022.10.31\r\n",
      "requests                      2.26.0\r\n",
      "requests-oauthlib             1.3.1\r\n",
      "rsa                           4.9\r\n",
      "s3transfer                    0.5.2\r\n",
      "sacremoses                    0.0.53\r\n",
      "scikit-image                  0.19.1\r\n",
      "scikit-learn                  1.0.1\r\n",
      "scipy                         1.10.1\r\n",
      "seaborn                       0.11.2\r\n",
      "Send2Trash                    1.8.0\r\n",
      "setuptools                    67.4.0\r\n",
      "shapely                       2.0.1\r\n",
      "six                           1.16.0\r\n",
      "smart-open                    6.3.0\r\n",
      "sniffio                       1.3.0\r\n",
      "snowballstemmer               2.2.0\r\n",
      "soupsieve                     2.4\r\n",
      "spacy                         3.5.0\r\n",
      "spacy-legacy                  3.0.12\r\n",
      "spacy-loggers                 1.0.4\r\n",
      "Sphinx                        6.1.3\r\n",
      "sphinxcontrib-applehelp       1.0.4\r\n",
      "sphinxcontrib-devhelp         1.0.2\r\n",
      "sphinxcontrib-htmlhelp        2.0.1\r\n",
      "sphinxcontrib-jsmath          1.0.1\r\n",
      "sphinxcontrib-qthelp          1.0.3\r\n",
      "sphinxcontrib-serializinghtml 1.1.5\r\n",
      "SQLAlchemy                    1.4.26\r\n",
      "sqlparse                      0.4.3\r\n",
      "srsly                         2.4.5\r\n",
      "statsmodels                   0.13.1\r\n",
      "sympy                         1.9\r\n",
      "tenacity                      8.2.1\r\n",
      "tensorboard                   2.9.1\r\n",
      "tensorboard-data-server       0.6.1\r\n",
      "tensorboard-plugin-wit        1.8.1\r\n",
      "tensorflow-cpu                2.9.3\r\n",
      "tensorflow-estimator          2.9.0\r\n",
      "tensorflow-io-gcs-filesystem  0.30.0\r\n",
      "termcolor                     2.2.0\r\n",
      "terminado                     0.17.1\r\n",
      "thinc                         8.1.7\r\n",
      "threadpoolctl                 3.1.0\r\n",
      "tifffile                      2023.2.3\r\n",
      "tinycss2                      1.2.1\r\n",
      "tokenizers                    0.10.3\r\n",
      "torch                         1.13.1+cpu\r\n",
      "torchvision                   0.14.1+cpu\r\n",
      "tornado                       6.2\r\n",
      "tqdm                          4.64.1\r\n",
      "traitlets                     5.9.0\r\n",
      "transformers                  4.14.1\r\n",
      "typer                         0.7.0\r\n",
      "typing_extensions             4.5.0\r\n",
      "urllib3                       1.26.14\r\n",
      "wasabi                        1.1.1\r\n",
      "wcwidth                       0.2.6\r\n",
      "webencodings                  0.5.1\r\n",
      "websocket-client              1.5.1\r\n",
      "Werkzeug                      2.2.3\r\n",
      "wheel                         0.38.4\r\n",
      "widgetsnbextension            3.5.2\r\n",
      "wrapt                         1.14.1\r\n",
      "xgboost                       1.5.1\r\n",
      "xlrd                          2.0.1\r\n",
      "yarl                          1.8.2\r\n",
      "zipp                          3.14.0\r\n"
     ],
     "output_type":"stream"
    }
   ],
   "metadata":{
    "datalore":{
     "node_id":"duXX70Fpq4cnAfBayOhAAE",
     "type":"CODE",
     "hide_input_from_viewers":false,
     "hide_output_from_viewers":false
    }
   }
  },
  {
   "cell_type":"code",
   "source":[
    "#!pip install pytube\n",
    "# import pytube\n",
    "from pytube import YouTube\n",
    "\n",
    "link_video = input(\"Zadajte URL videa na stiahnutie: \")\n",
    "video = YouTube(link_video) \n",
    "\n",
    "stream_video = video.streams.get_highest_resolution()\n",
    "print(f\"Stahovane video: {video.title} \\n ma pocet zobrazeni: {video.views} \\n ma velkost {stream_video.filesize_mb} MB\")\n",
    "stream_video.download()"
   ],
   "execution_count":7,
   "outputs":[
    {
     "name":"stdout",
     "text":[
      "Zadajte URL videa na stiahnutie:  https:\/\/www.youtube.com\/watch?v=naEi7t05C-c\n",
      "Stahovane video: Online kurz Python - Ako na Prevody (Konvertovanie) Mien v Pythone? Knižnica Forex Python 💰 \n",
      " ma pocet zobrazeni: 75 \n",
      " ma velkost 21.872 MB\n"
     ],
     "output_type":"stream"
    },
    {
     "data":{
      "text\/plain":[
       "'\/data\/notebook_files\/Online kurz Python - Ako na Prevody (Konvertovanie) Mien v Pythone Knižnica Forex Python 💰.mp4'"
      ]
     },
     "metadata":{
      
     },
     "output_type":"display_data"
    }
   ],
   "metadata":{
    "datalore":{
     "node_id":"8GHs0lJ6nmaVYUPdlSr3D7",
     "type":"CODE",
     "hide_input_from_viewers":false,
     "hide_output_from_viewers":false
    }
   }
  },
  {
   "cell_type":"code",
   "source":[
    "# https:\/\/www.youtube.com\/watch?v=0spr9m419Ik&list=PLIu_ZdHo7Pk8H-6EyC5k6SPRK5m_yf9xo\n",
    "\n",
    "# !pip install pytube\n",
    "# import pytube\n",
    "from pytube import Playlist\n",
    "\n",
    "zoznam_videoplaylist = Playlist(\"https:\/\/www.youtube.com\/watch?v=0spr9m419Ik&list=PLIu_ZdHo7Pk8H-6EyC5k6SPRK5m_yf9xo\")\n",
    "\n",
    "for video in zoznam_videoplaylist:\n",
    "    print(video.title())"
   ],
   "execution_count":8,
   "outputs":[
    {
     "name":"stdout",
     "text":[
      "Https:\/\/Www.Youtube.Com\/Watch?V=0Spr9M419Ik\n",
      "Https:\/\/Www.Youtube.Com\/Watch?V=E9Dolxnnulm\n",
      "Https:\/\/Www.Youtube.Com\/Watch?V=Naei7T05C-C\n",
      "Https:\/\/Www.Youtube.Com\/Watch?V=X7Wwqtsa7We\n",
      "Https:\/\/Www.Youtube.Com\/Watch?V=Tdefprtb8Lu\n"
     ],
     "output_type":"stream"
    }
   ],
   "metadata":{
    "datalore":{
     "node_id":"hkiB8KYO6Qn1jSnsfQydtr",
     "type":"CODE",
     "hide_input_from_viewers":false,
     "hide_output_from_viewers":false
    }
   }
  }
 ],
 "metadata":{
  "kernelspec":{
   "display_name":"Python",
   "language":"python",
   "name":"python"
  },
  "datalore":{
   "version":1,
   "computation_mode":"JUPYTER",
   "package_manager":"pip",
   "base_environment":"default",
   "packages":[
    
   ]
  }
 },
 "nbformat":4,
 "nbformat_minor":4
}